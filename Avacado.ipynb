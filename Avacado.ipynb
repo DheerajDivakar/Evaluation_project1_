{
 "cells": [
  {
   "cell_type": "markdown",
   "metadata": {},
   "source": [
    "The table below represents weekly 2018 retail scan data for National retail volume (units) and price. Retail scan data comes directly from retailers’ cash registers based on actual retail sales of Hass avocados. Starting in 2013, the table below reflects an expanded, multi-outlet retail data set. Multi-outlet reporting includes an aggregation of the following channels: grocery, mass, club, drug, dollar and military. The Average Price (of avocados) in the table reflects a per unit (per avocado) cost, even when multiple units (avocados) are sold in bags. The Product Lookup codes (PLU’s) in the table are only for Hass avocados. Other varieties of avocados (e.g. greenskins) are not included in this table.\n",
    "\n",
    "Some relevant columns in the dataset:\n",
    "\n",
    "Date - The date of the observation\n"
   ]
  },
  {
   "cell_type": "markdown",
   "metadata": {},
   "source": [
    "AveragePrice - the average price of a single avocado "
   ]
  },
  {
   "cell_type": "markdown",
   "metadata": {},
   "source": [
    " type - conventional or organic "
   ]
  },
  {
   "cell_type": "markdown",
   "metadata": {},
   "source": [
    "year - the year "
   ]
  },
  {
   "cell_type": "markdown",
   "metadata": {},
   "source": [
    "Total Volume - Total number of avocados sold"
   ]
  },
  {
   "cell_type": "markdown",
   "metadata": {},
   "source": [
    "Region - The city or region of the observation"
   ]
  },
  {
   "cell_type": "markdown",
   "metadata": {},
   "source": [
    "4046 - Total number of avocados with PLU 4046 sold"
   ]
  },
  {
   "cell_type": "markdown",
   "metadata": {},
   "source": [
    "4225 - Total number of avocados with PLU 4225 sold"
   ]
  },
  {
   "cell_type": "markdown",
   "metadata": {},
   "source": [
    "4770 - Total number of avocados with PLU 4770 sold"
   ]
  },
  {
   "cell_type": "markdown",
   "metadata": {},
   "source": [
    "# Data Processing"
   ]
  },
  {
   "cell_type": "code",
   "execution_count": 88,
   "metadata": {},
   "outputs": [],
   "source": [
    "import pandas as pd\n",
    "import numpy as np\n",
    "import matplotlib.pyplot as plt\n",
    "import seaborn as sns\n",
    "import warnings\n",
    "warnings.filterwarnings('ignore')"
   ]
  },
  {
   "cell_type": "code",
   "execution_count": 89,
   "metadata": {},
   "outputs": [
    {
     "data": {
      "text/html": [
       "<div>\n",
       "<style scoped>\n",
       "    .dataframe tbody tr th:only-of-type {\n",
       "        vertical-align: middle;\n",
       "    }\n",
       "\n",
       "    .dataframe tbody tr th {\n",
       "        vertical-align: top;\n",
       "    }\n",
       "\n",
       "    .dataframe thead th {\n",
       "        text-align: right;\n",
       "    }\n",
       "</style>\n",
       "<table border=\"1\" class=\"dataframe\">\n",
       "  <thead>\n",
       "    <tr style=\"text-align: right;\">\n",
       "      <th></th>\n",
       "      <th>Unnamed: 0</th>\n",
       "      <th>Date</th>\n",
       "      <th>AveragePrice</th>\n",
       "      <th>Total Volume</th>\n",
       "      <th>4046</th>\n",
       "      <th>4225</th>\n",
       "      <th>4770</th>\n",
       "      <th>Total Bags</th>\n",
       "      <th>Small Bags</th>\n",
       "      <th>Large Bags</th>\n",
       "      <th>XLarge Bags</th>\n",
       "      <th>type</th>\n",
       "      <th>year</th>\n",
       "      <th>region</th>\n",
       "    </tr>\n",
       "  </thead>\n",
       "  <tbody>\n",
       "    <tr>\n",
       "      <th>0</th>\n",
       "      <td>0.0</td>\n",
       "      <td>27-12-2015</td>\n",
       "      <td>1.33</td>\n",
       "      <td>64236.62</td>\n",
       "      <td>1036.74</td>\n",
       "      <td>54454.85</td>\n",
       "      <td>48.16</td>\n",
       "      <td>8696.87</td>\n",
       "      <td>8603.62</td>\n",
       "      <td>93.25</td>\n",
       "      <td>0.0</td>\n",
       "      <td>conventional</td>\n",
       "      <td>2015.0</td>\n",
       "      <td>Albany</td>\n",
       "    </tr>\n",
       "    <tr>\n",
       "      <th>1</th>\n",
       "      <td>1.0</td>\n",
       "      <td>20-12-2015</td>\n",
       "      <td>1.35</td>\n",
       "      <td>54876.98</td>\n",
       "      <td>674.28</td>\n",
       "      <td>44638.81</td>\n",
       "      <td>58.33</td>\n",
       "      <td>9505.56</td>\n",
       "      <td>9408.07</td>\n",
       "      <td>97.49</td>\n",
       "      <td>0.0</td>\n",
       "      <td>conventional</td>\n",
       "      <td>2015.0</td>\n",
       "      <td>Albany</td>\n",
       "    </tr>\n",
       "    <tr>\n",
       "      <th>2</th>\n",
       "      <td>2.0</td>\n",
       "      <td>13-12-2015</td>\n",
       "      <td>0.93</td>\n",
       "      <td>118220.22</td>\n",
       "      <td>794.70</td>\n",
       "      <td>109149.67</td>\n",
       "      <td>130.50</td>\n",
       "      <td>8145.35</td>\n",
       "      <td>8042.21</td>\n",
       "      <td>103.14</td>\n",
       "      <td>0.0</td>\n",
       "      <td>conventional</td>\n",
       "      <td>2015.0</td>\n",
       "      <td>Albany</td>\n",
       "    </tr>\n",
       "    <tr>\n",
       "      <th>3</th>\n",
       "      <td>3.0</td>\n",
       "      <td>06-12-2015</td>\n",
       "      <td>1.08</td>\n",
       "      <td>78992.15</td>\n",
       "      <td>1132.00</td>\n",
       "      <td>71976.41</td>\n",
       "      <td>72.58</td>\n",
       "      <td>5811.16</td>\n",
       "      <td>5677.40</td>\n",
       "      <td>133.76</td>\n",
       "      <td>0.0</td>\n",
       "      <td>conventional</td>\n",
       "      <td>2015.0</td>\n",
       "      <td>Albany</td>\n",
       "    </tr>\n",
       "    <tr>\n",
       "      <th>4</th>\n",
       "      <td>4.0</td>\n",
       "      <td>29-11-2015</td>\n",
       "      <td>1.28</td>\n",
       "      <td>51039.60</td>\n",
       "      <td>941.48</td>\n",
       "      <td>43838.39</td>\n",
       "      <td>75.78</td>\n",
       "      <td>6183.95</td>\n",
       "      <td>5986.26</td>\n",
       "      <td>197.69</td>\n",
       "      <td>0.0</td>\n",
       "      <td>conventional</td>\n",
       "      <td>2015.0</td>\n",
       "      <td>Albany</td>\n",
       "    </tr>\n",
       "  </tbody>\n",
       "</table>\n",
       "</div>"
      ],
      "text/plain": [
       "   Unnamed: 0        Date  AveragePrice  Total Volume     4046       4225  \\\n",
       "0         0.0  27-12-2015          1.33      64236.62  1036.74   54454.85   \n",
       "1         1.0  20-12-2015          1.35      54876.98   674.28   44638.81   \n",
       "2         2.0  13-12-2015          0.93     118220.22   794.70  109149.67   \n",
       "3         3.0  06-12-2015          1.08      78992.15  1132.00   71976.41   \n",
       "4         4.0  29-11-2015          1.28      51039.60   941.48   43838.39   \n",
       "\n",
       "     4770  Total Bags  Small Bags  Large Bags  XLarge Bags          type  \\\n",
       "0   48.16     8696.87     8603.62       93.25          0.0  conventional   \n",
       "1   58.33     9505.56     9408.07       97.49          0.0  conventional   \n",
       "2  130.50     8145.35     8042.21      103.14          0.0  conventional   \n",
       "3   72.58     5811.16     5677.40      133.76          0.0  conventional   \n",
       "4   75.78     6183.95     5986.26      197.69          0.0  conventional   \n",
       "\n",
       "     year  region  \n",
       "0  2015.0  Albany  \n",
       "1  2015.0  Albany  \n",
       "2  2015.0  Albany  \n",
       "3  2015.0  Albany  \n",
       "4  2015.0  Albany  "
      ]
     },
     "execution_count": 89,
     "metadata": {},
     "output_type": "execute_result"
    }
   ],
   "source": [
    "ava=pd.read_csv(\"Avacado.csv\")\n",
    "ava.head()"
   ]
  },
  {
   "cell_type": "code",
   "execution_count": 90,
   "metadata": {},
   "outputs": [
    {
     "data": {
      "text/html": [
       "<div>\n",
       "<style scoped>\n",
       "    .dataframe tbody tr th:only-of-type {\n",
       "        vertical-align: middle;\n",
       "    }\n",
       "\n",
       "    .dataframe tbody tr th {\n",
       "        vertical-align: top;\n",
       "    }\n",
       "\n",
       "    .dataframe thead th {\n",
       "        text-align: right;\n",
       "    }\n",
       "</style>\n",
       "<table border=\"1\" class=\"dataframe\">\n",
       "  <thead>\n",
       "    <tr style=\"text-align: right;\">\n",
       "      <th></th>\n",
       "      <th>Unnamed: 0</th>\n",
       "      <th>Date</th>\n",
       "      <th>AveragePrice</th>\n",
       "      <th>Total Volume</th>\n",
       "      <th>4046</th>\n",
       "      <th>4225</th>\n",
       "      <th>4770</th>\n",
       "      <th>Total Bags</th>\n",
       "      <th>Small Bags</th>\n",
       "      <th>Large Bags</th>\n",
       "      <th>XLarge Bags</th>\n",
       "      <th>type</th>\n",
       "      <th>year</th>\n",
       "      <th>region</th>\n",
       "    </tr>\n",
       "  </thead>\n",
       "  <tbody>\n",
       "    <tr>\n",
       "      <th>16463</th>\n",
       "      <td>NaN</td>\n",
       "      <td>NaN</td>\n",
       "      <td>NaN</td>\n",
       "      <td>NaN</td>\n",
       "      <td>NaN</td>\n",
       "      <td>NaN</td>\n",
       "      <td>NaN</td>\n",
       "      <td>NaN</td>\n",
       "      <td>NaN</td>\n",
       "      <td>NaN</td>\n",
       "      <td>NaN</td>\n",
       "      <td>NaN</td>\n",
       "      <td>NaN</td>\n",
       "      <td>NaN</td>\n",
       "    </tr>\n",
       "    <tr>\n",
       "      <th>16464</th>\n",
       "      <td>NaN</td>\n",
       "      <td>NaN</td>\n",
       "      <td>NaN</td>\n",
       "      <td>NaN</td>\n",
       "      <td>NaN</td>\n",
       "      <td>NaN</td>\n",
       "      <td>NaN</td>\n",
       "      <td>NaN</td>\n",
       "      <td>NaN</td>\n",
       "      <td>NaN</td>\n",
       "      <td>NaN</td>\n",
       "      <td>NaN</td>\n",
       "      <td>NaN</td>\n",
       "      <td>NaN</td>\n",
       "    </tr>\n",
       "    <tr>\n",
       "      <th>16465</th>\n",
       "      <td>NaN</td>\n",
       "      <td>NaN</td>\n",
       "      <td>NaN</td>\n",
       "      <td>NaN</td>\n",
       "      <td>NaN</td>\n",
       "      <td>NaN</td>\n",
       "      <td>NaN</td>\n",
       "      <td>NaN</td>\n",
       "      <td>NaN</td>\n",
       "      <td>NaN</td>\n",
       "      <td>NaN</td>\n",
       "      <td>NaN</td>\n",
       "      <td>NaN</td>\n",
       "      <td>NaN</td>\n",
       "    </tr>\n",
       "    <tr>\n",
       "      <th>16466</th>\n",
       "      <td>NaN</td>\n",
       "      <td>NaN</td>\n",
       "      <td>NaN</td>\n",
       "      <td>NaN</td>\n",
       "      <td>NaN</td>\n",
       "      <td>NaN</td>\n",
       "      <td>NaN</td>\n",
       "      <td>NaN</td>\n",
       "      <td>NaN</td>\n",
       "      <td>NaN</td>\n",
       "      <td>NaN</td>\n",
       "      <td>NaN</td>\n",
       "      <td>NaN</td>\n",
       "      <td>NaN</td>\n",
       "    </tr>\n",
       "    <tr>\n",
       "      <th>16467</th>\n",
       "      <td>NaN</td>\n",
       "      <td>NaN</td>\n",
       "      <td>NaN</td>\n",
       "      <td>NaN</td>\n",
       "      <td>NaN</td>\n",
       "      <td>NaN</td>\n",
       "      <td>NaN</td>\n",
       "      <td>NaN</td>\n",
       "      <td>NaN</td>\n",
       "      <td>NaN</td>\n",
       "      <td>NaN</td>\n",
       "      <td>NaN</td>\n",
       "      <td>NaN</td>\n",
       "      <td>NaN</td>\n",
       "    </tr>\n",
       "  </tbody>\n",
       "</table>\n",
       "</div>"
      ],
      "text/plain": [
       "       Unnamed: 0 Date  AveragePrice  Total Volume  4046  4225  4770  \\\n",
       "16463         NaN  NaN           NaN           NaN   NaN   NaN   NaN   \n",
       "16464         NaN  NaN           NaN           NaN   NaN   NaN   NaN   \n",
       "16465         NaN  NaN           NaN           NaN   NaN   NaN   NaN   \n",
       "16466         NaN  NaN           NaN           NaN   NaN   NaN   NaN   \n",
       "16467         NaN  NaN           NaN           NaN   NaN   NaN   NaN   \n",
       "\n",
       "       Total Bags  Small Bags  Large Bags  XLarge Bags type  year region  \n",
       "16463         NaN         NaN         NaN          NaN  NaN   NaN    NaN  \n",
       "16464         NaN         NaN         NaN          NaN  NaN   NaN    NaN  \n",
       "16465         NaN         NaN         NaN          NaN  NaN   NaN    NaN  \n",
       "16466         NaN         NaN         NaN          NaN  NaN   NaN    NaN  \n",
       "16467         NaN         NaN         NaN          NaN  NaN   NaN    NaN  "
      ]
     },
     "execution_count": 90,
     "metadata": {},
     "output_type": "execute_result"
    }
   ],
   "source": [
    "ava.tail()"
   ]
  },
  {
   "cell_type": "markdown",
   "metadata": {},
   "source": [
    "we can observe that we have many null values in row,that are not required for our prediction thus we can remove those rows and also the Unmaned column is also having null values so we can remove that also."
   ]
  },
  {
   "cell_type": "markdown",
   "metadata": {},
   "source": [
    "# Data Cleaning"
   ]
  },
  {
   "cell_type": "code",
   "execution_count": 91,
   "metadata": {},
   "outputs": [],
   "source": [
    "#Let's drop all the unnecessary rows and columns\n",
    "\n",
    "ava.dropna(how='all',inplace=True)"
   ]
  },
  {
   "cell_type": "code",
   "execution_count": 92,
   "metadata": {},
   "outputs": [],
   "source": [
    "ava.drop(['Unnamed: 0','year'],axis=1,inplace=True)"
   ]
  },
  {
   "cell_type": "code",
   "execution_count": 93,
   "metadata": {},
   "outputs": [
    {
     "data": {
      "text/html": [
       "<div>\n",
       "<style scoped>\n",
       "    .dataframe tbody tr th:only-of-type {\n",
       "        vertical-align: middle;\n",
       "    }\n",
       "\n",
       "    .dataframe tbody tr th {\n",
       "        vertical-align: top;\n",
       "    }\n",
       "\n",
       "    .dataframe thead th {\n",
       "        text-align: right;\n",
       "    }\n",
       "</style>\n",
       "<table border=\"1\" class=\"dataframe\">\n",
       "  <thead>\n",
       "    <tr style=\"text-align: right;\">\n",
       "      <th></th>\n",
       "      <th>Date</th>\n",
       "      <th>AveragePrice</th>\n",
       "      <th>Total Volume</th>\n",
       "      <th>4046</th>\n",
       "      <th>4225</th>\n",
       "      <th>4770</th>\n",
       "      <th>Total Bags</th>\n",
       "      <th>Small Bags</th>\n",
       "      <th>Large Bags</th>\n",
       "      <th>XLarge Bags</th>\n",
       "      <th>type</th>\n",
       "      <th>region</th>\n",
       "    </tr>\n",
       "  </thead>\n",
       "  <tbody>\n",
       "    <tr>\n",
       "      <th>0</th>\n",
       "      <td>27-12-2015</td>\n",
       "      <td>1.33</td>\n",
       "      <td>64236.62</td>\n",
       "      <td>1036.74</td>\n",
       "      <td>54454.85</td>\n",
       "      <td>48.16</td>\n",
       "      <td>8696.87</td>\n",
       "      <td>8603.62</td>\n",
       "      <td>93.25</td>\n",
       "      <td>0.00</td>\n",
       "      <td>conventional</td>\n",
       "      <td>Albany</td>\n",
       "    </tr>\n",
       "    <tr>\n",
       "      <th>1</th>\n",
       "      <td>20-12-2015</td>\n",
       "      <td>1.35</td>\n",
       "      <td>54876.98</td>\n",
       "      <td>674.28</td>\n",
       "      <td>44638.81</td>\n",
       "      <td>58.33</td>\n",
       "      <td>9505.56</td>\n",
       "      <td>9408.07</td>\n",
       "      <td>97.49</td>\n",
       "      <td>0.00</td>\n",
       "      <td>conventional</td>\n",
       "      <td>Albany</td>\n",
       "    </tr>\n",
       "    <tr>\n",
       "      <th>2</th>\n",
       "      <td>13-12-2015</td>\n",
       "      <td>0.93</td>\n",
       "      <td>118220.22</td>\n",
       "      <td>794.70</td>\n",
       "      <td>109149.67</td>\n",
       "      <td>130.50</td>\n",
       "      <td>8145.35</td>\n",
       "      <td>8042.21</td>\n",
       "      <td>103.14</td>\n",
       "      <td>0.00</td>\n",
       "      <td>conventional</td>\n",
       "      <td>Albany</td>\n",
       "    </tr>\n",
       "    <tr>\n",
       "      <th>3</th>\n",
       "      <td>06-12-2015</td>\n",
       "      <td>1.08</td>\n",
       "      <td>78992.15</td>\n",
       "      <td>1132.00</td>\n",
       "      <td>71976.41</td>\n",
       "      <td>72.58</td>\n",
       "      <td>5811.16</td>\n",
       "      <td>5677.40</td>\n",
       "      <td>133.76</td>\n",
       "      <td>0.00</td>\n",
       "      <td>conventional</td>\n",
       "      <td>Albany</td>\n",
       "    </tr>\n",
       "    <tr>\n",
       "      <th>4</th>\n",
       "      <td>29-11-2015</td>\n",
       "      <td>1.28</td>\n",
       "      <td>51039.60</td>\n",
       "      <td>941.48</td>\n",
       "      <td>43838.39</td>\n",
       "      <td>75.78</td>\n",
       "      <td>6183.95</td>\n",
       "      <td>5986.26</td>\n",
       "      <td>197.69</td>\n",
       "      <td>0.00</td>\n",
       "      <td>conventional</td>\n",
       "      <td>Albany</td>\n",
       "    </tr>\n",
       "    <tr>\n",
       "      <th>...</th>\n",
       "      <td>...</td>\n",
       "      <td>...</td>\n",
       "      <td>...</td>\n",
       "      <td>...</td>\n",
       "      <td>...</td>\n",
       "      <td>...</td>\n",
       "      <td>...</td>\n",
       "      <td>...</td>\n",
       "      <td>...</td>\n",
       "      <td>...</td>\n",
       "      <td>...</td>\n",
       "      <td>...</td>\n",
       "    </tr>\n",
       "    <tr>\n",
       "      <th>1512</th>\n",
       "      <td>16-10-2016</td>\n",
       "      <td>1.39</td>\n",
       "      <td>190846.01</td>\n",
       "      <td>57529.11</td>\n",
       "      <td>56366.66</td>\n",
       "      <td>17531.78</td>\n",
       "      <td>59418.46</td>\n",
       "      <td>48823.53</td>\n",
       "      <td>10354.65</td>\n",
       "      <td>240.28</td>\n",
       "      <td>conventional</td>\n",
       "      <td>Charlotte</td>\n",
       "    </tr>\n",
       "    <tr>\n",
       "      <th>1513</th>\n",
       "      <td>09-10-2016</td>\n",
       "      <td>1.51</td>\n",
       "      <td>178235.75</td>\n",
       "      <td>43325.87</td>\n",
       "      <td>52189.61</td>\n",
       "      <td>19419.57</td>\n",
       "      <td>63300.70</td>\n",
       "      <td>54704.14</td>\n",
       "      <td>8596.56</td>\n",
       "      <td>0.00</td>\n",
       "      <td>conventional</td>\n",
       "      <td>Charlotte</td>\n",
       "    </tr>\n",
       "    <tr>\n",
       "      <th>1514</th>\n",
       "      <td>02-10-2016</td>\n",
       "      <td>1.48</td>\n",
       "      <td>178410.82</td>\n",
       "      <td>46364.75</td>\n",
       "      <td>52893.38</td>\n",
       "      <td>16736.92</td>\n",
       "      <td>62415.77</td>\n",
       "      <td>53332.61</td>\n",
       "      <td>8258.16</td>\n",
       "      <td>825.00</td>\n",
       "      <td>conventional</td>\n",
       "      <td>Charlotte</td>\n",
       "    </tr>\n",
       "    <tr>\n",
       "      <th>1515</th>\n",
       "      <td>25-09-2016</td>\n",
       "      <td>1.47</td>\n",
       "      <td>189131.52</td>\n",
       "      <td>54110.79</td>\n",
       "      <td>53593.58</td>\n",
       "      <td>17495.42</td>\n",
       "      <td>63931.73</td>\n",
       "      <td>55653.47</td>\n",
       "      <td>8278.26</td>\n",
       "      <td>0.00</td>\n",
       "      <td>conventional</td>\n",
       "      <td>Charlotte</td>\n",
       "    </tr>\n",
       "    <tr>\n",
       "      <th>1516</th>\n",
       "      <td>18-09-2016</td>\n",
       "      <td>1.43</td>\n",
       "      <td>182978.30</td>\n",
       "      <td>43116.41</td>\n",
       "      <td>54193.42</td>\n",
       "      <td>16563.91</td>\n",
       "      <td>69104.56</td>\n",
       "      <td>57456.21</td>\n",
       "      <td>11648.35</td>\n",
       "      <td>0.00</td>\n",
       "      <td>conventional</td>\n",
       "      <td>Charlotte</td>\n",
       "    </tr>\n",
       "  </tbody>\n",
       "</table>\n",
       "<p>1517 rows × 12 columns</p>\n",
       "</div>"
      ],
      "text/plain": [
       "            Date  AveragePrice  Total Volume      4046       4225      4770  \\\n",
       "0     27-12-2015          1.33      64236.62   1036.74   54454.85     48.16   \n",
       "1     20-12-2015          1.35      54876.98    674.28   44638.81     58.33   \n",
       "2     13-12-2015          0.93     118220.22    794.70  109149.67    130.50   \n",
       "3     06-12-2015          1.08      78992.15   1132.00   71976.41     72.58   \n",
       "4     29-11-2015          1.28      51039.60    941.48   43838.39     75.78   \n",
       "...          ...           ...           ...       ...        ...       ...   \n",
       "1512  16-10-2016          1.39     190846.01  57529.11   56366.66  17531.78   \n",
       "1513  09-10-2016          1.51     178235.75  43325.87   52189.61  19419.57   \n",
       "1514  02-10-2016          1.48     178410.82  46364.75   52893.38  16736.92   \n",
       "1515  25-09-2016          1.47     189131.52  54110.79   53593.58  17495.42   \n",
       "1516  18-09-2016          1.43     182978.30  43116.41   54193.42  16563.91   \n",
       "\n",
       "      Total Bags  Small Bags  Large Bags  XLarge Bags          type     region  \n",
       "0        8696.87     8603.62       93.25         0.00  conventional     Albany  \n",
       "1        9505.56     9408.07       97.49         0.00  conventional     Albany  \n",
       "2        8145.35     8042.21      103.14         0.00  conventional     Albany  \n",
       "3        5811.16     5677.40      133.76         0.00  conventional     Albany  \n",
       "4        6183.95     5986.26      197.69         0.00  conventional     Albany  \n",
       "...          ...         ...         ...          ...           ...        ...  \n",
       "1512    59418.46    48823.53    10354.65       240.28  conventional  Charlotte  \n",
       "1513    63300.70    54704.14     8596.56         0.00  conventional  Charlotte  \n",
       "1514    62415.77    53332.61     8258.16       825.00  conventional  Charlotte  \n",
       "1515    63931.73    55653.47     8278.26         0.00  conventional  Charlotte  \n",
       "1516    69104.56    57456.21    11648.35         0.00  conventional  Charlotte  \n",
       "\n",
       "[1517 rows x 12 columns]"
      ]
     },
     "execution_count": 93,
     "metadata": {},
     "output_type": "execute_result"
    }
   ],
   "source": [
    "ava"
   ]
  },
  {
   "cell_type": "code",
   "execution_count": 94,
   "metadata": {},
   "outputs": [
    {
     "data": {
      "text/plain": [
       "(1517, 12)"
      ]
     },
     "execution_count": 94,
     "metadata": {},
     "output_type": "execute_result"
    }
   ],
   "source": [
    "ava.shape"
   ]
  },
  {
   "cell_type": "code",
   "execution_count": 95,
   "metadata": {},
   "outputs": [
    {
     "name": "stdout",
     "output_type": "stream",
     "text": [
      "<class 'pandas.core.frame.DataFrame'>\n",
      "Int64Index: 1517 entries, 0 to 1516\n",
      "Data columns (total 12 columns):\n",
      " #   Column        Non-Null Count  Dtype  \n",
      "---  ------        --------------  -----  \n",
      " 0   Date          1517 non-null   object \n",
      " 1   AveragePrice  1517 non-null   float64\n",
      " 2   Total Volume  1517 non-null   float64\n",
      " 3   4046          1517 non-null   float64\n",
      " 4   4225          1517 non-null   float64\n",
      " 5   4770          1517 non-null   float64\n",
      " 6   Total Bags    1517 non-null   float64\n",
      " 7   Small Bags    1517 non-null   float64\n",
      " 8   Large Bags    1517 non-null   float64\n",
      " 9   XLarge Bags   1517 non-null   float64\n",
      " 10  type          1517 non-null   object \n",
      " 11  region        1517 non-null   object \n",
      "dtypes: float64(9), object(3)\n",
      "memory usage: 154.1+ KB\n"
     ]
    }
   ],
   "source": [
    "ava.info()"
   ]
  },
  {
   "cell_type": "code",
   "execution_count": 96,
   "metadata": {},
   "outputs": [],
   "source": [
    "#here column data is in object format o lets convert into date formate\n",
    "ava[\"Date\"]=pd.to_datetime(ava[\"Date\"])"
   ]
  },
  {
   "cell_type": "code",
   "execution_count": 97,
   "metadata": {},
   "outputs": [],
   "source": [
    "#Lets extract the year and month from the Date for better visulatization\n",
    "ava[\"Year\"]=ava[\"Date\"].dt.year\n",
    "ava[\"Month\"]=ava[\"Date\"].dt.month\n",
    "ava.Month=ava.Month.map({1:'jan',2:'feb',3:'mar',4:'april',5:'may',6:'june', 7:'july',8:'august',9:'september',10:'october',11:'november',12:'december'})\n",
    "ava['Day']=ava['Date'].dt.day"
   ]
  },
  {
   "cell_type": "code",
   "execution_count": 98,
   "metadata": {},
   "outputs": [
    {
     "data": {
      "text/plain": [
       "Index(['Date', 'AveragePrice', 'Total Volume', '4046', '4225', '4770',\n",
       "       'Total Bags', 'Small Bags', 'Large Bags', 'XLarge Bags', 'type',\n",
       "       'region', 'Year', 'Month', 'Day'],\n",
       "      dtype='object')"
      ]
     },
     "execution_count": 98,
     "metadata": {},
     "output_type": "execute_result"
    }
   ],
   "source": [
    "ava.columns"
   ]
  },
  {
   "cell_type": "code",
   "execution_count": 99,
   "metadata": {},
   "outputs": [
    {
     "data": {
      "text/html": [
       "<div>\n",
       "<style scoped>\n",
       "    .dataframe tbody tr th:only-of-type {\n",
       "        vertical-align: middle;\n",
       "    }\n",
       "\n",
       "    .dataframe tbody tr th {\n",
       "        vertical-align: top;\n",
       "    }\n",
       "\n",
       "    .dataframe thead th {\n",
       "        text-align: right;\n",
       "    }\n",
       "</style>\n",
       "<table border=\"1\" class=\"dataframe\">\n",
       "  <thead>\n",
       "    <tr style=\"text-align: right;\">\n",
       "      <th></th>\n",
       "      <th>Date</th>\n",
       "      <th>AveragePrice</th>\n",
       "      <th>Total Volume</th>\n",
       "      <th>4046</th>\n",
       "      <th>4225</th>\n",
       "      <th>4770</th>\n",
       "      <th>Total Bags</th>\n",
       "      <th>Small Bags</th>\n",
       "      <th>Large Bags</th>\n",
       "      <th>XLarge Bags</th>\n",
       "      <th>type</th>\n",
       "      <th>region</th>\n",
       "      <th>Year</th>\n",
       "      <th>Month</th>\n",
       "      <th>Day</th>\n",
       "    </tr>\n",
       "  </thead>\n",
       "  <tbody>\n",
       "    <tr>\n",
       "      <th>0</th>\n",
       "      <td>2015-12-27</td>\n",
       "      <td>1.33</td>\n",
       "      <td>64236.62</td>\n",
       "      <td>1036.74</td>\n",
       "      <td>54454.85</td>\n",
       "      <td>48.16</td>\n",
       "      <td>8696.87</td>\n",
       "      <td>8603.62</td>\n",
       "      <td>93.25</td>\n",
       "      <td>0.0</td>\n",
       "      <td>conventional</td>\n",
       "      <td>Albany</td>\n",
       "      <td>2015</td>\n",
       "      <td>december</td>\n",
       "      <td>27</td>\n",
       "    </tr>\n",
       "    <tr>\n",
       "      <th>1</th>\n",
       "      <td>2015-12-20</td>\n",
       "      <td>1.35</td>\n",
       "      <td>54876.98</td>\n",
       "      <td>674.28</td>\n",
       "      <td>44638.81</td>\n",
       "      <td>58.33</td>\n",
       "      <td>9505.56</td>\n",
       "      <td>9408.07</td>\n",
       "      <td>97.49</td>\n",
       "      <td>0.0</td>\n",
       "      <td>conventional</td>\n",
       "      <td>Albany</td>\n",
       "      <td>2015</td>\n",
       "      <td>december</td>\n",
       "      <td>20</td>\n",
       "    </tr>\n",
       "    <tr>\n",
       "      <th>2</th>\n",
       "      <td>2015-12-13</td>\n",
       "      <td>0.93</td>\n",
       "      <td>118220.22</td>\n",
       "      <td>794.70</td>\n",
       "      <td>109149.67</td>\n",
       "      <td>130.50</td>\n",
       "      <td>8145.35</td>\n",
       "      <td>8042.21</td>\n",
       "      <td>103.14</td>\n",
       "      <td>0.0</td>\n",
       "      <td>conventional</td>\n",
       "      <td>Albany</td>\n",
       "      <td>2015</td>\n",
       "      <td>december</td>\n",
       "      <td>13</td>\n",
       "    </tr>\n",
       "    <tr>\n",
       "      <th>3</th>\n",
       "      <td>2015-06-12</td>\n",
       "      <td>1.08</td>\n",
       "      <td>78992.15</td>\n",
       "      <td>1132.00</td>\n",
       "      <td>71976.41</td>\n",
       "      <td>72.58</td>\n",
       "      <td>5811.16</td>\n",
       "      <td>5677.40</td>\n",
       "      <td>133.76</td>\n",
       "      <td>0.0</td>\n",
       "      <td>conventional</td>\n",
       "      <td>Albany</td>\n",
       "      <td>2015</td>\n",
       "      <td>june</td>\n",
       "      <td>12</td>\n",
       "    </tr>\n",
       "    <tr>\n",
       "      <th>4</th>\n",
       "      <td>2015-11-29</td>\n",
       "      <td>1.28</td>\n",
       "      <td>51039.60</td>\n",
       "      <td>941.48</td>\n",
       "      <td>43838.39</td>\n",
       "      <td>75.78</td>\n",
       "      <td>6183.95</td>\n",
       "      <td>5986.26</td>\n",
       "      <td>197.69</td>\n",
       "      <td>0.0</td>\n",
       "      <td>conventional</td>\n",
       "      <td>Albany</td>\n",
       "      <td>2015</td>\n",
       "      <td>november</td>\n",
       "      <td>29</td>\n",
       "    </tr>\n",
       "  </tbody>\n",
       "</table>\n",
       "</div>"
      ],
      "text/plain": [
       "        Date  AveragePrice  Total Volume     4046       4225    4770  \\\n",
       "0 2015-12-27          1.33      64236.62  1036.74   54454.85   48.16   \n",
       "1 2015-12-20          1.35      54876.98   674.28   44638.81   58.33   \n",
       "2 2015-12-13          0.93     118220.22   794.70  109149.67  130.50   \n",
       "3 2015-06-12          1.08      78992.15  1132.00   71976.41   72.58   \n",
       "4 2015-11-29          1.28      51039.60   941.48   43838.39   75.78   \n",
       "\n",
       "   Total Bags  Small Bags  Large Bags  XLarge Bags          type  region  \\\n",
       "0     8696.87     8603.62       93.25          0.0  conventional  Albany   \n",
       "1     9505.56     9408.07       97.49          0.0  conventional  Albany   \n",
       "2     8145.35     8042.21      103.14          0.0  conventional  Albany   \n",
       "3     5811.16     5677.40      133.76          0.0  conventional  Albany   \n",
       "4     6183.95     5986.26      197.69          0.0  conventional  Albany   \n",
       "\n",
       "   Year     Month  Day  \n",
       "0  2015  december   27  \n",
       "1  2015  december   20  \n",
       "2  2015  december   13  \n",
       "3  2015      june   12  \n",
       "4  2015  november   29  "
      ]
     },
     "execution_count": 99,
     "metadata": {},
     "output_type": "execute_result"
    }
   ],
   "source": [
    "ava.head()"
   ]
  },
  {
   "cell_type": "code",
   "execution_count": 100,
   "metadata": {},
   "outputs": [
    {
     "data": {
      "text/plain": [
       "['Date',\n",
       " 'AveragePrice',\n",
       " 'Total Volume',\n",
       " '4046',\n",
       " '4225',\n",
       " '4770',\n",
       " 'Total Bags',\n",
       " 'Small Bags',\n",
       " 'Large Bags',\n",
       " 'XLarge Bags',\n",
       " 'region',\n",
       " 'Year',\n",
       " 'Month',\n",
       " 'Day']"
      ]
     },
     "execution_count": 100,
     "metadata": {},
     "output_type": "execute_result"
    }
   ],
   "source": [
    "columns_names=(['Date', 'AveragePrice', 'Total Volume', '4046', '4225', '4770',\n",
    "       'Total Bags', 'Small Bags', 'Large Bags', 'XLarge Bags', 'region', 'Year', 'Month', 'Day'])\n",
    "columns_names"
   ]
  },
  {
   "cell_type": "code",
   "execution_count": 101,
   "metadata": {},
   "outputs": [
    {
     "data": {
      "text/plain": [
       "['Date',\n",
       " 'Day',\n",
       " 'Month',\n",
       " 'Year',\n",
       " 'AveragePrice',\n",
       " 'Total Volume',\n",
       " '4046',\n",
       " '4225',\n",
       " '4770',\n",
       " 'Total Bags',\n",
       " 'Small Bags',\n",
       " 'Large Bags',\n",
       " 'XLarge Bags',\n",
       " 'region']"
      ]
     },
     "execution_count": 101,
     "metadata": {},
     "output_type": "execute_result"
    }
   ],
   "source": [
    "#Let's Rearrange the columns in our data set for better presenation\n",
    "\n",
    "columns_names[0],columns_names[1],columns_names[2],columns_names[3],columns_names[4],columns_names[5],columns_names[6],columns_names[7],columns_names[8],columns_names[9],columns_names[10],columns_names[11],columns_names[12],columns_names[13]=columns_names[0],columns_names[13],columns_names[12],columns_names[11],columns_names[1],columns_names[2],columns_names[3],columns_names[4],columns_names[5],columns_names[6],columns_names[7],columns_names[8],columns_names[9],columns_names[10]\n",
    "columns_names"
   ]
  },
  {
   "cell_type": "markdown",
   "metadata": {},
   "source": [
    "We have successfully splitted and rearranged the columns as per our requirement"
   ]
  },
  {
   "cell_type": "code",
   "execution_count": 102,
   "metadata": {},
   "outputs": [],
   "source": [
    "ava=ava[columns_names]"
   ]
  },
  {
   "cell_type": "code",
   "execution_count": 103,
   "metadata": {},
   "outputs": [
    {
     "data": {
      "text/html": [
       "<div>\n",
       "<style scoped>\n",
       "    .dataframe tbody tr th:only-of-type {\n",
       "        vertical-align: middle;\n",
       "    }\n",
       "\n",
       "    .dataframe tbody tr th {\n",
       "        vertical-align: top;\n",
       "    }\n",
       "\n",
       "    .dataframe thead th {\n",
       "        text-align: right;\n",
       "    }\n",
       "</style>\n",
       "<table border=\"1\" class=\"dataframe\">\n",
       "  <thead>\n",
       "    <tr style=\"text-align: right;\">\n",
       "      <th></th>\n",
       "      <th>Date</th>\n",
       "      <th>Day</th>\n",
       "      <th>Month</th>\n",
       "      <th>Year</th>\n",
       "      <th>AveragePrice</th>\n",
       "      <th>Total Volume</th>\n",
       "      <th>4046</th>\n",
       "      <th>4225</th>\n",
       "      <th>4770</th>\n",
       "      <th>Total Bags</th>\n",
       "      <th>Small Bags</th>\n",
       "      <th>Large Bags</th>\n",
       "      <th>XLarge Bags</th>\n",
       "      <th>region</th>\n",
       "    </tr>\n",
       "  </thead>\n",
       "  <tbody>\n",
       "    <tr>\n",
       "      <th>0</th>\n",
       "      <td>2015-12-27</td>\n",
       "      <td>27</td>\n",
       "      <td>december</td>\n",
       "      <td>2015</td>\n",
       "      <td>1.33</td>\n",
       "      <td>64236.62</td>\n",
       "      <td>1036.74</td>\n",
       "      <td>54454.85</td>\n",
       "      <td>48.16</td>\n",
       "      <td>8696.87</td>\n",
       "      <td>8603.62</td>\n",
       "      <td>93.25</td>\n",
       "      <td>0.0</td>\n",
       "      <td>Albany</td>\n",
       "    </tr>\n",
       "    <tr>\n",
       "      <th>1</th>\n",
       "      <td>2015-12-20</td>\n",
       "      <td>20</td>\n",
       "      <td>december</td>\n",
       "      <td>2015</td>\n",
       "      <td>1.35</td>\n",
       "      <td>54876.98</td>\n",
       "      <td>674.28</td>\n",
       "      <td>44638.81</td>\n",
       "      <td>58.33</td>\n",
       "      <td>9505.56</td>\n",
       "      <td>9408.07</td>\n",
       "      <td>97.49</td>\n",
       "      <td>0.0</td>\n",
       "      <td>Albany</td>\n",
       "    </tr>\n",
       "    <tr>\n",
       "      <th>2</th>\n",
       "      <td>2015-12-13</td>\n",
       "      <td>13</td>\n",
       "      <td>december</td>\n",
       "      <td>2015</td>\n",
       "      <td>0.93</td>\n",
       "      <td>118220.22</td>\n",
       "      <td>794.70</td>\n",
       "      <td>109149.67</td>\n",
       "      <td>130.50</td>\n",
       "      <td>8145.35</td>\n",
       "      <td>8042.21</td>\n",
       "      <td>103.14</td>\n",
       "      <td>0.0</td>\n",
       "      <td>Albany</td>\n",
       "    </tr>\n",
       "    <tr>\n",
       "      <th>3</th>\n",
       "      <td>2015-06-12</td>\n",
       "      <td>12</td>\n",
       "      <td>june</td>\n",
       "      <td>2015</td>\n",
       "      <td>1.08</td>\n",
       "      <td>78992.15</td>\n",
       "      <td>1132.00</td>\n",
       "      <td>71976.41</td>\n",
       "      <td>72.58</td>\n",
       "      <td>5811.16</td>\n",
       "      <td>5677.40</td>\n",
       "      <td>133.76</td>\n",
       "      <td>0.0</td>\n",
       "      <td>Albany</td>\n",
       "    </tr>\n",
       "    <tr>\n",
       "      <th>4</th>\n",
       "      <td>2015-11-29</td>\n",
       "      <td>29</td>\n",
       "      <td>november</td>\n",
       "      <td>2015</td>\n",
       "      <td>1.28</td>\n",
       "      <td>51039.60</td>\n",
       "      <td>941.48</td>\n",
       "      <td>43838.39</td>\n",
       "      <td>75.78</td>\n",
       "      <td>6183.95</td>\n",
       "      <td>5986.26</td>\n",
       "      <td>197.69</td>\n",
       "      <td>0.0</td>\n",
       "      <td>Albany</td>\n",
       "    </tr>\n",
       "  </tbody>\n",
       "</table>\n",
       "</div>"
      ],
      "text/plain": [
       "        Date  Day     Month  Year  AveragePrice  Total Volume     4046  \\\n",
       "0 2015-12-27   27  december  2015          1.33      64236.62  1036.74   \n",
       "1 2015-12-20   20  december  2015          1.35      54876.98   674.28   \n",
       "2 2015-12-13   13  december  2015          0.93     118220.22   794.70   \n",
       "3 2015-06-12   12      june  2015          1.08      78992.15  1132.00   \n",
       "4 2015-11-29   29  november  2015          1.28      51039.60   941.48   \n",
       "\n",
       "        4225    4770  Total Bags  Small Bags  Large Bags  XLarge Bags  region  \n",
       "0   54454.85   48.16     8696.87     8603.62       93.25          0.0  Albany  \n",
       "1   44638.81   58.33     9505.56     9408.07       97.49          0.0  Albany  \n",
       "2  109149.67  130.50     8145.35     8042.21      103.14          0.0  Albany  \n",
       "3   71976.41   72.58     5811.16     5677.40      133.76          0.0  Albany  \n",
       "4   43838.39   75.78     6183.95     5986.26      197.69          0.0  Albany  "
      ]
     },
     "execution_count": 103,
     "metadata": {},
     "output_type": "execute_result"
    }
   ],
   "source": [
    "ava.head()"
   ]
  },
  {
   "cell_type": "code",
   "execution_count": 116,
   "metadata": {},
   "outputs": [
    {
     "data": {
      "text/plain": [
       "California             76\n",
       "Albany                 67\n",
       "Boise                  65\n",
       "BaltimoreWashington    65\n",
       "Boston                 62\n",
       "Atlanta                54\n",
       "PhoenixTucson          52\n",
       "BuffaloRochester       51\n",
       "Spokane                49\n",
       "Columbus               47\n",
       "NewYork                44\n",
       "Jacksonville           41\n",
       "Detroit                40\n",
       "SouthCentral           39\n",
       "SanDiego               38\n",
       "West                   36\n",
       "Tampa                  34\n",
       "Louisville             34\n",
       "Charlotte              31\n",
       "Portland               30\n",
       "NorthernNewEngland     29\n",
       "Houston                29\n",
       "WestTexNewMexico       27\n",
       "Nashville              25\n",
       "TotalUS                25\n",
       "Denver                 24\n",
       "SouthCarolina          24\n",
       "Chicago                23\n",
       "GrandRapids            23\n",
       "Pittsburgh             22\n",
       "Orlando                21\n",
       "RichmondNorfolk        21\n",
       "Syracuse               19\n",
       "HarrisburgScranton     19\n",
       "GreatLakes             18\n",
       "Midsouth               18\n",
       "DallasFtWorth          17\n",
       "Roanoke                17\n",
       "MiamiFtLauderdale      17\n",
       "RaleighGreensboro      16\n",
       "Indianapolis           16\n",
       "StLouis                16\n",
       "SanFrancisco           15\n",
       "HartfordSpringfield    13\n",
       "Philadelphia           13\n",
       "Plains                 12\n",
       "Northeast              12\n",
       "LasVegas               10\n",
       "Southeast               9\n",
       "Seattle                 9\n",
       "LosAngeles              3\n",
       "Name: region, dtype: int64"
      ]
     },
     "execution_count": 116,
     "metadata": {},
     "output_type": "execute_result"
    }
   ],
   "source": [
    "ava['region'].value_counts()"
   ]
  },
  {
   "cell_type": "code",
   "execution_count": 118,
   "metadata": {},
   "outputs": [
    {
     "data": {
      "text/plain": [
       "2015    1270\n",
       "2016     247\n",
       "Name: Year, dtype: int64"
      ]
     },
     "execution_count": 118,
     "metadata": {},
     "output_type": "execute_result"
    }
   ],
   "source": [
    "ava['Year'].value_counts()"
   ]
  },
  {
   "cell_type": "code",
   "execution_count": 104,
   "metadata": {},
   "outputs": [],
   "source": [
    "#Let's drop the date column\n",
    "\n",
    "ava.drop(['Date'],axis=1,inplace=True)"
   ]
  },
  {
   "cell_type": "code",
   "execution_count": 107,
   "metadata": {},
   "outputs": [
    {
     "data": {
      "text/html": [
       "<div>\n",
       "<style scoped>\n",
       "    .dataframe tbody tr th:only-of-type {\n",
       "        vertical-align: middle;\n",
       "    }\n",
       "\n",
       "    .dataframe tbody tr th {\n",
       "        vertical-align: top;\n",
       "    }\n",
       "\n",
       "    .dataframe thead th {\n",
       "        text-align: right;\n",
       "    }\n",
       "</style>\n",
       "<table border=\"1\" class=\"dataframe\">\n",
       "  <thead>\n",
       "    <tr style=\"text-align: right;\">\n",
       "      <th></th>\n",
       "      <th>Day</th>\n",
       "      <th>Year</th>\n",
       "      <th>AveragePrice</th>\n",
       "      <th>Total Volume</th>\n",
       "      <th>4046</th>\n",
       "      <th>4225</th>\n",
       "      <th>4770</th>\n",
       "      <th>Total Bags</th>\n",
       "      <th>Small Bags</th>\n",
       "      <th>Large Bags</th>\n",
       "      <th>XLarge Bags</th>\n",
       "    </tr>\n",
       "  </thead>\n",
       "  <tbody>\n",
       "    <tr>\n",
       "      <th>count</th>\n",
       "      <td>1517.000000</td>\n",
       "      <td>1517.000000</td>\n",
       "      <td>1517.000000</td>\n",
       "      <td>1.517000e+03</td>\n",
       "      <td>1.517000e+03</td>\n",
       "      <td>1.517000e+03</td>\n",
       "      <td>1.517000e+03</td>\n",
       "      <td>1.517000e+03</td>\n",
       "      <td>1.517000e+03</td>\n",
       "      <td>1.517000e+03</td>\n",
       "      <td>1517.000000</td>\n",
       "    </tr>\n",
       "    <tr>\n",
       "      <th>mean</th>\n",
       "      <td>15.253790</td>\n",
       "      <td>2015.162821</td>\n",
       "      <td>1.074990</td>\n",
       "      <td>1.601879e+06</td>\n",
       "      <td>6.464387e+05</td>\n",
       "      <td>6.114375e+05</td>\n",
       "      <td>5.040550e+04</td>\n",
       "      <td>2.935974e+05</td>\n",
       "      <td>2.487736e+05</td>\n",
       "      <td>4.264205e+04</td>\n",
       "      <td>2181.771074</td>\n",
       "    </tr>\n",
       "    <tr>\n",
       "      <th>std</th>\n",
       "      <td>8.965902</td>\n",
       "      <td>0.369324</td>\n",
       "      <td>0.188891</td>\n",
       "      <td>4.433143e+06</td>\n",
       "      <td>1.947614e+06</td>\n",
       "      <td>1.672906e+06</td>\n",
       "      <td>1.377812e+05</td>\n",
       "      <td>7.579765e+05</td>\n",
       "      <td>6.474765e+05</td>\n",
       "      <td>1.182157e+05</td>\n",
       "      <td>7455.712144</td>\n",
       "    </tr>\n",
       "    <tr>\n",
       "      <th>min</th>\n",
       "      <td>1.000000</td>\n",
       "      <td>2015.000000</td>\n",
       "      <td>0.490000</td>\n",
       "      <td>3.875074e+04</td>\n",
       "      <td>4.677200e+02</td>\n",
       "      <td>1.783770e+03</td>\n",
       "      <td>0.000000e+00</td>\n",
       "      <td>3.311770e+03</td>\n",
       "      <td>3.311770e+03</td>\n",
       "      <td>0.000000e+00</td>\n",
       "      <td>0.000000</td>\n",
       "    </tr>\n",
       "    <tr>\n",
       "      <th>25%</th>\n",
       "      <td>7.000000</td>\n",
       "      <td>2015.000000</td>\n",
       "      <td>0.980000</td>\n",
       "      <td>1.474700e+05</td>\n",
       "      <td>2.040034e+04</td>\n",
       "      <td>4.147606e+04</td>\n",
       "      <td>9.112500e+02</td>\n",
       "      <td>3.620689e+04</td>\n",
       "      <td>2.972722e+04</td>\n",
       "      <td>5.407400e+02</td>\n",
       "      <td>0.000000</td>\n",
       "    </tr>\n",
       "    <tr>\n",
       "      <th>50%</th>\n",
       "      <td>15.000000</td>\n",
       "      <td>2015.000000</td>\n",
       "      <td>1.080000</td>\n",
       "      <td>4.027919e+05</td>\n",
       "      <td>8.175117e+04</td>\n",
       "      <td>1.186649e+05</td>\n",
       "      <td>7.688170e+03</td>\n",
       "      <td>7.397906e+04</td>\n",
       "      <td>6.237569e+04</td>\n",
       "      <td>5.044350e+03</td>\n",
       "      <td>0.000000</td>\n",
       "    </tr>\n",
       "    <tr>\n",
       "      <th>75%</th>\n",
       "      <td>22.000000</td>\n",
       "      <td>2015.000000</td>\n",
       "      <td>1.190000</td>\n",
       "      <td>9.819751e+05</td>\n",
       "      <td>3.775785e+05</td>\n",
       "      <td>4.851503e+05</td>\n",
       "      <td>2.916730e+04</td>\n",
       "      <td>1.576097e+05</td>\n",
       "      <td>1.461994e+05</td>\n",
       "      <td>2.926767e+04</td>\n",
       "      <td>401.480000</td>\n",
       "    </tr>\n",
       "    <tr>\n",
       "      <th>max</th>\n",
       "      <td>31.000000</td>\n",
       "      <td>2016.000000</td>\n",
       "      <td>1.680000</td>\n",
       "      <td>4.465546e+07</td>\n",
       "      <td>1.893304e+07</td>\n",
       "      <td>1.895648e+07</td>\n",
       "      <td>1.381516e+06</td>\n",
       "      <td>6.736304e+06</td>\n",
       "      <td>5.893642e+06</td>\n",
       "      <td>1.121076e+06</td>\n",
       "      <td>108072.790000</td>\n",
       "    </tr>\n",
       "  </tbody>\n",
       "</table>\n",
       "</div>"
      ],
      "text/plain": [
       "               Day         Year  AveragePrice  Total Volume          4046  \\\n",
       "count  1517.000000  1517.000000   1517.000000  1.517000e+03  1.517000e+03   \n",
       "mean     15.253790  2015.162821      1.074990  1.601879e+06  6.464387e+05   \n",
       "std       8.965902     0.369324      0.188891  4.433143e+06  1.947614e+06   \n",
       "min       1.000000  2015.000000      0.490000  3.875074e+04  4.677200e+02   \n",
       "25%       7.000000  2015.000000      0.980000  1.474700e+05  2.040034e+04   \n",
       "50%      15.000000  2015.000000      1.080000  4.027919e+05  8.175117e+04   \n",
       "75%      22.000000  2015.000000      1.190000  9.819751e+05  3.775785e+05   \n",
       "max      31.000000  2016.000000      1.680000  4.465546e+07  1.893304e+07   \n",
       "\n",
       "               4225          4770    Total Bags    Small Bags    Large Bags  \\\n",
       "count  1.517000e+03  1.517000e+03  1.517000e+03  1.517000e+03  1.517000e+03   \n",
       "mean   6.114375e+05  5.040550e+04  2.935974e+05  2.487736e+05  4.264205e+04   \n",
       "std    1.672906e+06  1.377812e+05  7.579765e+05  6.474765e+05  1.182157e+05   \n",
       "min    1.783770e+03  0.000000e+00  3.311770e+03  3.311770e+03  0.000000e+00   \n",
       "25%    4.147606e+04  9.112500e+02  3.620689e+04  2.972722e+04  5.407400e+02   \n",
       "50%    1.186649e+05  7.688170e+03  7.397906e+04  6.237569e+04  5.044350e+03   \n",
       "75%    4.851503e+05  2.916730e+04  1.576097e+05  1.461994e+05  2.926767e+04   \n",
       "max    1.895648e+07  1.381516e+06  6.736304e+06  5.893642e+06  1.121076e+06   \n",
       "\n",
       "         XLarge Bags  \n",
       "count    1517.000000  \n",
       "mean     2181.771074  \n",
       "std      7455.712144  \n",
       "min         0.000000  \n",
       "25%         0.000000  \n",
       "50%         0.000000  \n",
       "75%       401.480000  \n",
       "max    108072.790000  "
      ]
     },
     "execution_count": 107,
     "metadata": {},
     "output_type": "execute_result"
    }
   ],
   "source": [
    "ava.describe()"
   ]
  },
  {
   "cell_type": "code",
   "execution_count": 109,
   "metadata": {},
   "outputs": [
    {
     "data": {
      "text/plain": [
       "Day             0\n",
       "Month           0\n",
       "Year            0\n",
       "AveragePrice    0\n",
       "Total Volume    0\n",
       "4046            0\n",
       "4225            0\n",
       "4770            0\n",
       "Total Bags      0\n",
       "Small Bags      0\n",
       "Large Bags      0\n",
       "XLarge Bags     0\n",
       "region          0\n",
       "dtype: int64"
      ]
     },
     "execution_count": 109,
     "metadata": {},
     "output_type": "execute_result"
    }
   ],
   "source": [
    "#Let's check for null values in the data set\n",
    "ava.isnull().sum()"
   ]
  },
  {
   "cell_type": "markdown",
   "metadata": {},
   "source": [
    "no columns contains null values"
   ]
  },
  {
   "cell_type": "code",
   "execution_count": 113,
   "metadata": {},
   "outputs": [
    {
     "data": {
      "text/plain": [
       "<matplotlib.axes._subplots.AxesSubplot at 0x1e3bb10ff10>"
      ]
     },
     "execution_count": 113,
     "metadata": {},
     "output_type": "execute_result"
    },
    {
     "data": {
      "image/png": "[encoded data removed]",
      "text/plain": [
       "<Figure size 1800x1296 with 2 Axes>"
      ]
     },
     "metadata": {
      "needs_background": "light"
     },
     "output_type": "display_data"
    }
   ],
   "source": [
    "#Let's check the heat map of correlation\n",
    "\n",
    "plt.figure(figsize=(25,18))\n",
    "\n",
    "sns.heatmap(ava.corr(),annot=True)"
   ]
  },
  {
   "cell_type": "markdown",
   "metadata": {},
   "source": [
    "Total volume, Small bags and and total bags are higly\n",
    "    correlated\n",
    "\n",
    " Average price and Large, Small bags are higly negative\n",
    "   correlated\n",
    "\n",
    " Xlarge bags and region are negatively correlated"
   ]
  },
  {
   "cell_type": "markdown",
   "metadata": {},
   "source": [
    "# Exploratory Data Analysis"
   ]
  },
  {
   "cell_type": "code",
   "execution_count": 128,
   "metadata": {},
   "outputs": [
    {
     "data": {
      "text/plain": [
       "Text(0.5, 1.0, 'Average Price by Month')"
      ]
     },
     "execution_count": 128,
     "metadata": {},
     "output_type": "execute_result"
    },
    {
     "data": {
      "image/png": "[encoded data removed]",
      "text/plain": [
       "<Figure size 1080x720 with 1 Axes>"
      ]
     },
     "metadata": {
      "needs_background": "light"
     },
     "output_type": "display_data"
    }
   ],
   "source": [
    "#Let's check the average price with repect to the month\n",
    "dategroup=ava.groupby(\"Month\").mean()\n",
    "plt.figure(figsize=(15,10))\n",
    "dategroup['AveragePrice'].plot(x=ava.Month)\n",
    "plt.title('Average Price by Month')"
   ]
  },
  {
   "cell_type": "markdown",
   "metadata": {},
   "source": [
    "We can observe fron the graph that in the april month there is drop in the avg price of avacado and the then it keep on increasing and decreasing. From july we can observe there is stedy increase in the avg price then again it drops september."
   ]
  },
  {
   "cell_type": "code",
   "execution_count": 129,
   "metadata": {},
   "outputs": [
    {
     "data": {
      "text/plain": [
       "Text(0.5, 1.0, 'Average Price by year')"
      ]
     },
     "execution_count": 129,
     "metadata": {},
     "output_type": "execute_result"
    },
    {
     "data": {
      "image/png": "[encoded data removed]",
      "text/plain": [
       "<Figure size 1080x720 with 1 Axes>"
      ]
     },
     "metadata": {
      "needs_background": "light"
     },
     "output_type": "display_data"
    }
   ],
   "source": [
    "dategroup=ava.groupby(\"Year\").mean()\n",
    "plt.figure(figsize=(15,10))\n",
    "dategroup['AveragePrice'].plot(x=ava.Year)\n",
    "plt.title('Average Price by year')"
   ]
  },
  {
   "cell_type": "markdown",
   "metadata": {},
   "source": [
    "We can observe the avg price has a increased through the years"
   ]
  },
  {
   "cell_type": "code",
   "execution_count": 131,
   "metadata": {},
   "outputs": [
    {
     "data": {
      "text/plain": [
       "<matplotlib.axes._subplots.AxesSubplot at 0x1e497c2ab20>"
      ]
     },
     "execution_count": 131,
     "metadata": {},
     "output_type": "execute_result"
    },
    {
     "data": {
      "image/png": "[encoded data removed]",
      "text/plain": [
       "<Figure size 864x360 with 1 Axes>"
      ]
     },
     "metadata": {
      "needs_background": "light"
     },
     "output_type": "display_data"
    }
   ],
   "source": [
    "#Let's cehck the average price distribution\n",
    "\n",
    "plt.figure(figsize=(12,5))\n",
    "plt.title(\"Average Price Distirbution Plot\")\n",
    "sns.distplot(ava[\"AveragePrice\"])"
   ]
  },
  {
   "cell_type": "markdown",
   "metadata": {},
   "source": [
    "avg price has a normal distribution"
   ]
  },
  {
   "cell_type": "code",
   "execution_count": 132,
   "metadata": {},
   "outputs": [
    {
     "data": {
      "text/plain": [
       "<matplotlib.axes._subplots.AxesSubplot at 0x1e497defaf0>"
      ]
     },
     "execution_count": 132,
     "metadata": {},
     "output_type": "execute_result"
    },
    {
     "data": {
      "image/png": "[encoded data removed]",
      "text/plain": [
       "<Figure size 432x288 with 1 Axes>"
      ]
     },
     "metadata": {
      "needs_background": "light"
     },
     "output_type": "display_data"
    }
   ],
   "source": [
    "#Let's check the ratio of avg price and year\n",
    "\n",
    "sns.barplot(x = \"Year\" , y = \"AveragePrice\" ,data=ava )"
   ]
  },
  {
   "cell_type": "markdown",
   "metadata": {},
   "source": [
    "avg price in 2016 has increased as compared to the year 2015"
   ]
  },
  {
   "cell_type": "code",
   "execution_count": 135,
   "metadata": {},
   "outputs": [
    {
     "data": {
      "text/plain": [
       "<matplotlib.axes._subplots.AxesSubplot at 0x1e3c11293d0>"
      ]
     },
     "execution_count": 135,
     "metadata": {},
     "output_type": "execute_result"
    },
    {
     "data": {
      "image/png": "[encoded data removed]",
      "text/plain": [
       "<Figure size 720x360 with 1 Axes>"
      ]
     },
     "metadata": {
      "needs_background": "light"
     },
     "output_type": "display_data"
    }
   ],
   "source": [
    "#Let's check the  ratio of month and price that which year had max average price\n",
    "plt.figure(figsize=(10,5))\n",
    "sns.barplot(x = \"Month\" , y = \"AveragePrice\" ,data=ava )"
   ]
  },
  {
   "cell_type": "markdown",
   "metadata": {},
   "source": [
    "We can observe that in the november month we hae the highest average price, then followed by october, feburary, july, december and so on"
   ]
  },
  {
   "cell_type": "code",
   "execution_count": 137,
   "metadata": {},
   "outputs": [
    {
     "data": {
      "text/plain": [
       "<matplotlib.axes._subplots.AxesSubplot at 0x1e4ae5f1070>"
      ]
     },
     "execution_count": 137,
     "metadata": {},
     "output_type": "execute_result"
    },
    {
     "data": {
      "image/png": "[encoded data removed]",
      "text/plain": [
       "<Figure size 1080x576 with 1 Axes>"
      ]
     },
     "metadata": {
      "needs_background": "light"
     },
     "output_type": "display_data"
    }
   ],
   "source": [
    "#Let's check the average price for 4046 \n",
    "plt.subplots(figsize = (15,8))\n",
    "sns.barplot(x = ava['Month'], y= ava['4046'],hue=ava['Year'])"
   ]
  },
  {
   "cell_type": "code",
   "execution_count": 138,
   "metadata": {},
   "outputs": [
    {
     "data": {
      "text/plain": [
       "<matplotlib.axes._subplots.AxesSubplot at 0x1e4b1ad02b0>"
      ]
     },
     "execution_count": 138,
     "metadata": {},
     "output_type": "execute_result"
    },
    {
     "data": {
      "image/png": "[encoded data removed]",
      "text/plain": [
       "<Figure size 1080x576 with 1 Axes>"
      ]
     },
     "metadata": {
      "needs_background": "light"
     },
     "output_type": "display_data"
    }
   ],
   "source": [
    "#Let's check the average price for 4225\n",
    "plt.subplots(figsize = (15,8))\n",
    "sns.barplot(x = ava['Month'], y= ava['4225'],hue=ava['Year'])"
   ]
  },
  {
   "cell_type": "code",
   "execution_count": 139,
   "metadata": {},
   "outputs": [
    {
     "data": {
      "text/plain": [
       "<matplotlib.axes._subplots.AxesSubplot at 0x1e4ad8baf70>"
      ]
     },
     "execution_count": 139,
     "metadata": {},
     "output_type": "execute_result"
    },
    {
     "data": {
      "image/png": "[encoded data removed]",
      "text/plain": [
       "<Figure size 1080x576 with 1 Axes>"
      ]
     },
     "metadata": {
      "needs_background": "light"
     },
     "output_type": "display_data"
    }
   ],
   "source": [
    "#Let's check the average price for 4770\n",
    "plt.subplots(figsize = (15,8))\n",
    "sns.barplot(x = ava['Month'], y= ava['4770'],hue=ava['Year'])"
   ]
  },
  {
   "cell_type": "code",
   "execution_count": 142,
   "metadata": {},
   "outputs": [
    {
     "data": {
      "text/plain": [
       "<matplotlib.axes._subplots.AxesSubplot at 0x1e4b2d79df0>"
      ]
     },
     "execution_count": 142,
     "metadata": {},
     "output_type": "execute_result"
    },
    {
     "data": {
      "image/png": "[encoded data removed]",
      "text/plain": [
       "<Figure size 1440x720 with 1 Axes>"
      ]
     },
     "metadata": {
      "needs_background": "light"
     },
     "output_type": "display_data"
    }
   ],
   "source": [
    "plt.subplots(figsize = (20,10))\n",
    "sns.scatterplot(x=ava['Month'],y=ava['Total Volume'],hue=ava['Year'])"
   ]
  },
  {
   "cell_type": "code",
   "execution_count": 144,
   "metadata": {},
   "outputs": [
    {
     "data": {
      "image/png": "[encoded data removed]",
      "text/plain": [
       "<Figure size 1440x288 with 1 Axes>"
      ]
     },
     "metadata": {
      "needs_background": "light"
     },
     "output_type": "display_data"
    }
   ],
   "source": [
    "plt.subplots(figsize = (20,4))\n",
    "sns.scatterplot(x=ava['Month'],y=ava['AveragePrice'],hue=ava['Year']);\n"
   ]
  },
  {
   "cell_type": "code",
   "execution_count": 146,
   "metadata": {},
   "outputs": [
    {
     "data": {
      "text/plain": [
       "<matplotlib.axes._subplots.AxesSubplot at 0x1e4b35ed0d0>"
      ]
     },
     "execution_count": 146,
     "metadata": {},
     "output_type": "execute_result"
    },
    {
     "data": {
      "image/png": "[encoded data removed]",
      "text/plain": [
       "<Figure size 432x288 with 1 Axes>"
      ]
     },
     "metadata": {
      "needs_background": "light"
     },
     "output_type": "display_data"
    }
   ],
   "source": [
    "sns.lineplot(ava['Total Volume'],ava['AveragePrice'])"
   ]
  },
  {
   "cell_type": "markdown",
   "metadata": {},
   "source": [
    "We can observe that with increase in volume the average price is decreased"
   ]
  },
  {
   "cell_type": "code",
   "execution_count": 149,
   "metadata": {},
   "outputs": [
    {
     "data": {
      "text/plain": [
       "Text(0.5, 1.0, 'Avg Price in each region')"
      ]
     },
     "execution_count": 149,
     "metadata": {},
     "output_type": "execute_result"
    },
    {
     "data": {
      "image/png": "[encoded data removed]",
      "text/plain": [
       "<Figure size 1800x1080 with 1 Axes>"
      ]
     },
     "metadata": {
      "needs_background": "light"
     },
     "output_type": "display_data"
    }
   ],
   "source": [
    "#Let's check the  avg price in each region\n",
    "\n",
    "plt.figure(figsize=(25,15))\n",
    "sns.barplot(x='region',y='AveragePrice',data=ava)\n",
    "plt.xticks(rotation=90)\n",
    "plt.xlabel('Region')\n",
    "plt.ylabel('Average Price')\n",
    "plt.title('Avg Price in each region')"
   ]
  },
  {
   "cell_type": "markdown",
   "metadata": {},
   "source": [
    "We can observe that syracuse has the highest avg price, followed by Philadephia, St. Louis, New Yok and Norht East"
   ]
  },
  {
   "cell_type": "markdown",
   "metadata": {},
   "source": [
    "# Plotting Outliers"
   ]
  },
  {
   "cell_type": "code",
   "execution_count": 154,
   "metadata": {},
   "outputs": [
    {
     "data": {
      "text/plain": [
       "Day                 AxesSubplot(0.125,0.71587;0.133621x0.16413)\n",
       "Year             AxesSubplot(0.285345,0.71587;0.133621x0.16413)\n",
       "AveragePrice      AxesSubplot(0.44569,0.71587;0.133621x0.16413)\n",
       "Total Volume     AxesSubplot(0.606034,0.71587;0.133621x0.16413)\n",
       "4046             AxesSubplot(0.766379,0.71587;0.133621x0.16413)\n",
       "4225               AxesSubplot(0.125,0.518913;0.133621x0.16413)\n",
       "4770            AxesSubplot(0.285345,0.518913;0.133621x0.16413)\n",
       "Total Bags       AxesSubplot(0.44569,0.518913;0.133621x0.16413)\n",
       "Small Bags      AxesSubplot(0.606034,0.518913;0.133621x0.16413)\n",
       "Large Bags      AxesSubplot(0.766379,0.518913;0.133621x0.16413)\n",
       "XLarge Bags        AxesSubplot(0.125,0.321957;0.133621x0.16413)\n",
       "dtype: object"
      ]
     },
     "execution_count": 154,
     "metadata": {},
     "output_type": "execute_result"
    },
    {
     "data": {
      "image/png": "[encoded data removed]",
      "text/plain": [
       "<Figure size 1080x720 with 20 Axes>"
      ]
     },
     "metadata": {
      "needs_background": "light"
     },
     "output_type": "display_data"
    }
   ],
   "source": [
    "\n",
    "#Let's plot the boxplot of each column to check the outliers \n",
    "\n",
    "ava.plot(kind='box',subplots = True,layout=(4,5),figsize = (15,10))"
   ]
  },
  {
   "cell_type": "markdown",
   "metadata": {},
   "source": [
    "# Data Prepreation for Model"
   ]
  },
  {
   "cell_type": "code",
   "execution_count": 156,
   "metadata": {},
   "outputs": [],
   "source": [
    "from sklearn.preprocessing import LabelEncoder\n",
    "le=LabelEncoder()\n",
    "ava[\"Month\"] =le.fit_transform(ava[\"Month\"])\n"
   ]
  },
  {
   "cell_type": "code",
   "execution_count": 157,
   "metadata": {},
   "outputs": [],
   "source": [
    "ava[\"region\"] =le.fit_transform(ava[\"region\"])"
   ]
  },
  {
   "cell_type": "code",
   "execution_count": 158,
   "metadata": {},
   "outputs": [
    {
     "data": {
      "text/plain": [
       "array([[1.31052998, 0.98617371, 0.44100815, ..., 0.36004386, 0.29272731,\n",
       "        1.3143384 ],\n",
       "       [0.52953678, 0.98617371, 0.44100815, ..., 0.36000798, 0.29272731,\n",
       "        1.3143384 ],\n",
       "       [0.25145642, 0.98617371, 0.44100815, ..., 0.35996017, 0.29272731,\n",
       "        1.3143384 ],\n",
       "       ...,\n",
       "       [0.58616779, 0.68957864, 2.26753179, ..., 0.29095317, 0.1820374 ,\n",
       "        0.88028586],\n",
       "       [1.08738906, 1.68318189, 2.26753179, ..., 0.29078309, 0.29272731,\n",
       "        0.88028586],\n",
       "       [0.30639586, 1.68318189, 2.26753179, ..., 0.26226571, 0.29272731,\n",
       "        0.88028586]])"
      ]
     },
     "execution_count": 158,
     "metadata": {},
     "output_type": "execute_result"
    }
   ],
   "source": [
    "from scipy.stats import zscore\n",
    "z=np.abs(zscore(ava))\n",
    "z"
   ]
  },
  {
   "cell_type": "code",
   "execution_count": 160,
   "metadata": {},
   "outputs": [
    {
     "name": "stdout",
     "output_type": "stream",
     "text": [
      "(1436, 13)\n",
      "(1517, 13)\n"
     ]
    }
   ],
   "source": [
    "avacado=ava[(z<3).all(axis=1)]\n",
    "print(avacado.shape)\n",
    "print(ava.shape)\n"
   ]
  },
  {
   "cell_type": "code",
   "execution_count": 161,
   "metadata": {},
   "outputs": [
    {
     "name": "stdout",
     "output_type": "stream",
     "text": [
      "using z score percentage of outlier removed: 5.339485827290705\n"
     ]
    }
   ],
   "source": [
    "percentage_ofouliers=((1517-1436)/1517)*100\n",
    "\n",
    "print(\"using z score percentage of outlier removed:\",percentage_ofouliers)"
   ]
  },
  {
   "cell_type": "code",
   "execution_count": 188,
   "metadata": {},
   "outputs": [],
   "source": [
    "#Let's assign the value of x and y for training and testing\n",
    "\n",
    "X = avacado.drop(['AveragePrice'],axis=1)\n",
    "y = avacado['AveragePrice']"
   ]
  },
  {
   "cell_type": "code",
   "execution_count": 189,
   "metadata": {},
   "outputs": [
    {
     "data": {
      "text/plain": [
       "Day             0.041849\n",
       "Month          -0.016383\n",
       "Year            2.004439\n",
       "Total Volume    2.704085\n",
       "4046            3.120756\n",
       "4225            2.367429\n",
       "4770            3.331191\n",
       "Total Bags      4.165747\n",
       "Small Bags      4.410267\n",
       "Large Bags      3.518056\n",
       "XLarge Bags     5.118965\n",
       "region          0.276276\n",
       "dtype: float64"
      ]
     },
     "execution_count": 189,
     "metadata": {},
     "output_type": "execute_result"
    }
   ],
   "source": [
    "X.skew()"
   ]
  },
  {
   "cell_type": "code",
   "execution_count": 190,
   "metadata": {},
   "outputs": [],
   "source": [
    "from sklearn.preprocessing import power_transform\n",
    "X=power_transform(x,method=(\"yeo-johnson\"))\n"
   ]
  },
  {
   "cell_type": "code",
   "execution_count": 191,
   "metadata": {},
   "outputs": [
    {
     "data": {
      "text/plain": [
       "Day            -0.212755\n",
       "Month          -0.226032\n",
       "Year            2.004439\n",
       "Total Volume    0.000000\n",
       "4046           -0.025799\n",
       "4225            0.000835\n",
       "4770           -0.054751\n",
       "Total Bags     -0.000866\n",
       "Small Bags      0.013734\n",
       "Large Bags     -0.118018\n",
       "XLarge Bags     0.479994\n",
       "region         -0.219708\n",
       "dtype: float64"
      ]
     },
     "execution_count": 191,
     "metadata": {},
     "output_type": "execute_result"
    }
   ],
   "source": [
    "X=pd.DataFrame(x,columns=['Day','Month','Year','Total Volume','4046','4225','4770','Total Bags','Small Bags','Large Bags','XLarge Bags','region'],\n",
    "      dtype='object')\n",
    "X.skew()"
   ]
  },
  {
   "cell_type": "code",
   "execution_count": 175,
   "metadata": {},
   "outputs": [
    {
     "name": "stdout",
     "output_type": "stream",
     "text": [
      "StandardScaler()\n"
     ]
    }
   ],
   "source": [
    "from sklearn.preprocessing import StandardScaler\n",
    "sl=StandardScaler()\n",
    "print(sl.fit(avacado))"
   ]
  },
  {
   "cell_type": "markdown",
   "metadata": {},
   "source": [
    "# Modelling"
   ]
  },
  {
   "cell_type": "code",
   "execution_count": 182,
   "metadata": {},
   "outputs": [],
   "source": [
    "from sklearn.linear_model import LinearRegression,Lasso,Ridge,ElasticNet\n",
    "from sklearn.neighbors import KNeighborsRegressor\n",
    "from sklearn.svm import SVR\n",
    "from sklearn.ensemble import RandomForestRegressor,AdaBoostRegressor\n",
    "from sklearn.tree import DecisionTreeRegressor\n",
    "\n",
    "#Optimizer\n",
    "from sklearn.model_selection import GridSearchCV,cross_val_score\n",
    "\n",
    "#Metrics\n",
    "from sklearn.metrics import accuracy_score,classification_report,confusion_matrix,f1_score,average_precision_score\n",
    "from sklearn.metrics import adjusted_mutual_info_score,balanced_accuracy_score,roc_curve,auc\n",
    "from sklearn.metrics import r2_score,mean_absolute_error,mean_squared_error\n",
    "from sklearn.model_selection import train_test_split\n",
    "import warnings\n",
    "warnings.filterwarnings(\"ignore\")"
   ]
  },
  {
   "cell_type": "code",
   "execution_count": 183,
   "metadata": {},
   "outputs": [],
   "source": [
    "X_train,X_test,y_train,y_test= train_test_split(X,y,test_size=0.3,random_state=101)"
   ]
  },
  {
   "cell_type": "code",
   "execution_count": 192,
   "metadata": {},
   "outputs": [],
   "source": [
    "#Define a function to try different train test folds\n",
    "def model_select(model):\n",
    "    max_score=0\n",
    "    max_state=0\n",
    "    for x in range(42,105):\n",
    "        X_train, X_test, y_train, y_test = train_test_split(X, y, test_size=0.33, random_state=x)\n",
    "        md=model()\n",
    "        md.fit(X_train,y_train)\n",
    "        predict=md.predict(X_test)\n",
    "        r2score=r2_score(y_test,predict)\n",
    "        if r2score>max_score:\n",
    "            max_score=r2score\n",
    "            max_state=x\n",
    "    print(\"Max score is {} with random state {}\".format(max_score,max_state))"
   ]
  },
  {
   "cell_type": "code",
   "execution_count": 193,
   "metadata": {},
   "outputs": [
    {
     "name": "stdout",
     "output_type": "stream",
     "text": [
      "Max score is 0.7002020922468526 with random state 63\n"
     ]
    }
   ],
   "source": [
    "model_select(KNeighborsRegressor)"
   ]
  },
  {
   "cell_type": "code",
   "execution_count": 194,
   "metadata": {},
   "outputs": [
    {
     "name": "stdout",
     "output_type": "stream",
     "text": [
      "Max score is 0.4144337384877308 with random state 73\n"
     ]
    }
   ],
   "source": [
    "model_select(LinearRegression)"
   ]
  },
  {
   "cell_type": "code",
   "execution_count": 196,
   "metadata": {},
   "outputs": [
    {
     "name": "stdout",
     "output_type": "stream",
     "text": [
      "Max score is 0.4119021338063734 with random state 73\n"
     ]
    }
   ],
   "source": [
    "model_select(Ridge)"
   ]
  },
  {
   "cell_type": "code",
   "execution_count": 198,
   "metadata": {},
   "outputs": [
    {
     "name": "stdout",
     "output_type": "stream",
     "text": [
      "Max score is 0.7496750939934038 with random state 101\n"
     ]
    }
   ],
   "source": [
    "model_select(SVR)"
   ]
  },
  {
   "cell_type": "code",
   "execution_count": 199,
   "metadata": {},
   "outputs": [
    {
     "name": "stdout",
     "output_type": "stream",
     "text": [
      "Max score is 0.7225629626305745 with random state 76\n"
     ]
    }
   ],
   "source": [
    "model_select(DecisionTreeRegressor)"
   ]
  },
  {
   "cell_type": "code",
   "execution_count": 200,
   "metadata": {},
   "outputs": [
    {
     "name": "stdout",
     "output_type": "stream",
     "text": [
      "Max score is 0.8399405424568491 with random state 86\n"
     ]
    }
   ],
   "source": [
    "model_select(RandomForestRegressor)"
   ]
  },
  {
   "cell_type": "code",
   "execution_count": 201,
   "metadata": {},
   "outputs": [],
   "source": [
    "X_train, X_test, y_train, y_test = train_test_split(X, y, test_size=0.33, random_state=86)"
   ]
  },
  {
   "cell_type": "code",
   "execution_count": 202,
   "metadata": {},
   "outputs": [
    {
     "data": {
      "text/plain": [
       "0.7420463446773361"
      ]
     },
     "execution_count": 202,
     "metadata": {},
     "output_type": "execute_result"
    }
   ],
   "source": [
    "cross_val_score(RandomForestRegressor(),X_train,y_train,cv=5).mean()"
   ]
  },
  {
   "cell_type": "code",
   "execution_count": 205,
   "metadata": {},
   "outputs": [
    {
     "name": "stdout",
     "output_type": "stream",
     "text": [
      "0.9668876287003206\n"
     ]
    }
   ],
   "source": [
    "rf=RandomForestRegressor()\n",
    "rf.fit(X_train,y_train)\n",
    "print(rf.score(X_train, y_train))"
   ]
  },
  {
   "cell_type": "code",
   "execution_count": 206,
   "metadata": {},
   "outputs": [
    {
     "data": {
      "text/html": [
       "<div>\n",
       "<style scoped>\n",
       "    .dataframe tbody tr th:only-of-type {\n",
       "        vertical-align: middle;\n",
       "    }\n",
       "\n",
       "    .dataframe tbody tr th {\n",
       "        vertical-align: top;\n",
       "    }\n",
       "\n",
       "    .dataframe thead th {\n",
       "        text-align: right;\n",
       "    }\n",
       "</style>\n",
       "<table border=\"1\" class=\"dataframe\">\n",
       "  <thead>\n",
       "    <tr style=\"text-align: right;\">\n",
       "      <th></th>\n",
       "      <th>0</th>\n",
       "    </tr>\n",
       "  </thead>\n",
       "  <tbody>\n",
       "    <tr>\n",
       "      <th>0</th>\n",
       "      <td>0.9485</td>\n",
       "    </tr>\n",
       "    <tr>\n",
       "      <th>1</th>\n",
       "      <td>0.8724</td>\n",
       "    </tr>\n",
       "    <tr>\n",
       "      <th>2</th>\n",
       "      <td>1.2589</td>\n",
       "    </tr>\n",
       "    <tr>\n",
       "      <th>3</th>\n",
       "      <td>1.1700</td>\n",
       "    </tr>\n",
       "    <tr>\n",
       "      <th>4</th>\n",
       "      <td>1.0746</td>\n",
       "    </tr>\n",
       "    <tr>\n",
       "      <th>...</th>\n",
       "      <td>...</td>\n",
       "    </tr>\n",
       "    <tr>\n",
       "      <th>469</th>\n",
       "      <td>1.4622</td>\n",
       "    </tr>\n",
       "    <tr>\n",
       "      <th>470</th>\n",
       "      <td>0.7902</td>\n",
       "    </tr>\n",
       "    <tr>\n",
       "      <th>471</th>\n",
       "      <td>1.1053</td>\n",
       "    </tr>\n",
       "    <tr>\n",
       "      <th>472</th>\n",
       "      <td>1.1141</td>\n",
       "    </tr>\n",
       "    <tr>\n",
       "      <th>473</th>\n",
       "      <td>1.2279</td>\n",
       "    </tr>\n",
       "  </tbody>\n",
       "</table>\n",
       "<p>474 rows × 1 columns</p>\n",
       "</div>"
      ],
      "text/plain": [
       "          0\n",
       "0    0.9485\n",
       "1    0.8724\n",
       "2    1.2589\n",
       "3    1.1700\n",
       "4    1.0746\n",
       "..      ...\n",
       "469  1.4622\n",
       "470  0.7902\n",
       "471  1.1053\n",
       "472  1.1141\n",
       "473  1.2279\n",
       "\n",
       "[474 rows x 1 columns]"
      ]
     },
     "execution_count": 206,
     "metadata": {},
     "output_type": "execute_result"
    }
   ],
   "source": [
    "predict=rf.predict(X_test)\n",
    "\n",
    "predict=pd.DataFrame((predict))\n",
    "predict"
   ]
  },
  {
   "cell_type": "code",
   "execution_count": 207,
   "metadata": {},
   "outputs": [
    {
     "name": "stdout",
     "output_type": "stream",
     "text": [
      "R2 score is 0.8362397825120225\n",
      "Mean absolute error is 0.06168755274261605\n",
      "Mean squared error is 0.006443376940928274\n"
     ]
    }
   ],
   "source": [
    "print(\"R2 score is \"+str(r2_score(y_test,predict)))\n",
    "print(\"Mean absolute error is \"+str(mean_absolute_error(y_test,predict)))\n",
    "print(\"Mean squared error is \"+str(mean_squared_error(y_test,predict)))"
   ]
  },
  {
   "cell_type": "code",
   "execution_count": 208,
   "metadata": {},
   "outputs": [
    {
     "name": "stdout",
     "output_type": "stream",
     "text": [
      "Parameters currently in use:\n",
      "\n",
      "{'bootstrap': True,\n",
      " 'ccp_alpha': 0.0,\n",
      " 'criterion': 'mse',\n",
      " 'max_depth': None,\n",
      " 'max_features': 'auto',\n",
      " 'max_leaf_nodes': None,\n",
      " 'max_samples': None,\n",
      " 'min_impurity_decrease': 0.0,\n",
      " 'min_impurity_split': None,\n",
      " 'min_samples_leaf': 1,\n",
      " 'min_samples_split': 2,\n",
      " 'min_weight_fraction_leaf': 0.0,\n",
      " 'n_estimators': 100,\n",
      " 'n_jobs': None,\n",
      " 'oob_score': False,\n",
      " 'random_state': None,\n",
      " 'verbose': 0,\n",
      " 'warm_start': False}\n"
     ]
    }
   ],
   "source": [
    "#Let's look at parameters used by our current RandomForestRegressor\n",
    "\n",
    "rf = RandomForestRegressor()\n",
    "from pprint import pprint\n",
    "print('Parameters currently in use:\\n')\n",
    "pprint(rf.get_params())"
   ]
  },
  {
   "cell_type": "code",
   "execution_count": 209,
   "metadata": {},
   "outputs": [
    {
     "name": "stdout",
     "output_type": "stream",
     "text": [
      "Fitting 3 folds for each of 900 candidates, totalling 2700 fits\n"
     ]
    },
    {
     "name": "stderr",
     "output_type": "stream",
     "text": [
      "[Parallel(n_jobs=-1)]: Using backend LokyBackend with 8 concurrent workers.\n",
      "[Parallel(n_jobs=-1)]: Done  25 tasks      | elapsed:    9.9s\n",
      "[Parallel(n_jobs=-1)]: Done 146 tasks      | elapsed:   12.1s\n",
      "[Parallel(n_jobs=-1)]: Done 860 tasks      | elapsed:   20.9s\n",
      "[Parallel(n_jobs=-1)]: Done 1992 tasks      | elapsed:   37.1s\n"
     ]
    },
    {
     "name": "stdout",
     "output_type": "stream",
     "text": [
      "GridSearchCV(cv=3, estimator=RandomForestRegressor(), n_jobs=-1,\n",
      "             param_grid={'bootstrap': [True, False],\n",
      "                         'max_depth': [10, 20, 30, 40, None],\n",
      "                         'max_features': ['auto', 'sqrt'],\n",
      "                         'min_samples_leaf': [1, 2, 4],\n",
      "                         'min_samples_split': [2, 5, 10],\n",
      "                         'n_estimators': [5, 10, 20, 30, 50]},\n",
      "             verbose=2)\n",
      "0.7856562687034847\n",
      "50\n",
      "{'bootstrap': False, 'max_depth': 20, 'max_features': 'sqrt', 'min_samples_leaf': 1, 'min_samples_split': 2, 'n_estimators': 50}\n"
     ]
    },
    {
     "name": "stderr",
     "output_type": "stream",
     "text": [
      "[Parallel(n_jobs=-1)]: Done 2700 out of 2700 | elapsed:   47.4s finished\n"
     ]
    }
   ],
   "source": [
    "#Let's hype tune our model with GridSearchCV\n",
    "\n",
    "from sklearn.model_selection import GridSearchCV\n",
    "parameters = {'bootstrap': [True, False],\n",
    "              'max_depth': [10, 20, 30, 40, None],\n",
    "              'max_features': ['auto', 'sqrt'],\n",
    "              'min_samples_leaf': [1, 2, 4],\n",
    "              'min_samples_split': [2, 5, 10],\n",
    "              'n_estimators': [5, 10, 20, 30, 50],\n",
    "             }\n",
    "grid = GridSearchCV(estimator=rf,param_grid=parameters,\n",
    "                    cv = 3, verbose=2, n_jobs = -1)\n",
    "grid.fit(X_train,y_train)\n",
    "print(grid)\n",
    "print(grid.best_score_)\n",
    "print(grid.best_estimator_.n_estimators)\n",
    "print(grid.best_params_)\n"
   ]
  },
  {
   "cell_type": "code",
   "execution_count": 210,
   "metadata": {},
   "outputs": [
    {
     "name": "stdout",
     "output_type": "stream",
     "text": [
      "Score= 0.9691060332774747\n",
      "*******************************************************************\n",
      "Mean Absolute Error=  0.06228270042194092\n",
      "Mean squared Error=  0.006342035611814344\n",
      "Root Mean Absolute Error=  0.24956502243291412\n",
      "*******************************************************************\n",
      "R2 Score= 0.8388154005844035\n"
     ]
    }
   ],
   "source": [
    "#Let's re-train the regressor model with the best parameters\n",
    "\n",
    "rf = RandomForestRegressor(min_samples_leaf = 1, min_samples_split= 2,\n",
    "                            max_features = 'sqrt', n_estimators = 50)\n",
    "rf.fit(X_train,y_train)\n",
    "print(\"Score=\",rf.score(X_train,y_train))\n",
    "predrfc = rf.predict(X_test)\n",
    "print('*******************************************************************')\n",
    "print('Mean Absolute Error= ', mean_absolute_error(y_test,predrfc))\n",
    "print('Mean squared Error= ', mean_squared_error(y_test,predrfc))\n",
    "print('Root Mean Absolute Error= ', np.sqrt(mean_absolute_error(y_test,predrfc)))\n",
    "print('*******************************************************************')\n",
    "print('R2 Score=',r2_score(y_test,predrfc))"
   ]
  },
  {
   "cell_type": "code",
   "execution_count": 211,
   "metadata": {},
   "outputs": [
    {
     "data": {
      "text/plain": [
       "Text(0, 0.5, 'Predicted_Y')"
      ]
     },
     "execution_count": 211,
     "metadata": {},
     "output_type": "execute_result"
    },
    {
     "data": {
      "image/png": "[encoded data removed]",
      "text/plain": [
       "<Figure size 432x288 with 1 Axes>"
      ]
     },
     "metadata": {
      "needs_background": "light"
     },
     "output_type": "display_data"
    }
   ],
   "source": [
    "#checking the diff between actual and predicted value using graph\n",
    "\n",
    "plt.scatter(x=y_test,y=predrfc)\n",
    "plt.xlabel('Y_Test')\n",
    "plt.ylabel('Predicted_Y')"
   ]
  },
  {
   "cell_type": "markdown",
   "metadata": {},
   "source": [
    "# Random Forest Regressor has the highest R2 score ie around 84%"
   ]
  },
  {
   "cell_type": "markdown",
   "metadata": {},
   "source": [
    "# For Regression problem we got the best result from Random Forest with and accuracy of 83.88%"
   ]
  },
  {
   "cell_type": "markdown",
   "metadata": {},
   "source": [
    "# Classification Model"
   ]
  },
  {
   "cell_type": "markdown",
   "metadata": {},
   "source": [
    "Now we are taking region as indepependent variable and predicting using classificaton method"
   ]
  },
  {
   "cell_type": "code",
   "execution_count": 213,
   "metadata": {},
   "outputs": [
    {
     "name": "stdout",
     "output_type": "stream",
     "text": [
      "(1436, 10)\n",
      "(1436, 1)\n"
     ]
    }
   ],
   "source": [
    "#Let's assign the value of x and y for training and testing phase\n",
    "\n",
    "x_c = avacado.drop(columns=['region','Day','Total Bags'])\n",
    "y_c = avacado[[\"region\"]]\n",
    "print(x_c.shape)\n",
    "print(y_c.shape)"
   ]
  },
  {
   "cell_type": "code",
   "execution_count": 214,
   "metadata": {},
   "outputs": [],
   "source": [
    "# Let's scale the data\n",
    "\n",
    "from sklearn.preprocessing import StandardScaler\n",
    "sc = StandardScaler()\n",
    "sc.fit_transform(x_c)\n",
    "x_c = pd.DataFrame(x_c,columns=x_c.columns)"
   ]
  },
  {
   "cell_type": "code",
   "execution_count": 215,
   "metadata": {},
   "outputs": [],
   "source": [
    "from sklearn.model_selection import train_test_split\n",
    "xc_train,xc_test,yc_train,yc_test=train_test_split(x_c,y_c,test_size=0.2,random_state=0)"
   ]
  },
  {
   "cell_type": "code",
   "execution_count": 216,
   "metadata": {},
   "outputs": [],
   "source": [
    "from sklearn.metrics import confusion_matrix\n",
    "from sklearn.metrics import classification_report\n",
    "from sklearn.metrics import accuracy_score\n",
    "def cal_accuracy(yc_test, yc_predict): \n",
    "    \n",
    "    print(\"\\nConfusion Matrix: \\n\", \n",
    "    confusion_matrix(yc_test, yc_predict)) \n",
    "    \n",
    "    print(\"\\nClassification Report: \\n\", \n",
    "    classification_report(yc_test, yc_predict)) \n",
    "      \n",
    "    print (f\"\\nAccuracy : {accuracy_score(yc_test,yc_predict)*100:0.2f}%\")"
   ]
  },
  {
   "cell_type": "code",
   "execution_count": 217,
   "metadata": {},
   "outputs": [
    {
     "name": "stdout",
     "output_type": "stream",
     "text": [
      "Accuracy of Train Dataset: 41.81%\n",
      "Accuracy of Test Dataset: 35.07%\n"
     ]
    }
   ],
   "source": [
    "from sklearn.linear_model import LogisticRegression\n",
    "log=LogisticRegression()\n",
    "log.fit(xc_train,yc_train)\n",
    "print(f\"Accuracy of Train Dataset: {log.score(xc_train,yc_train)*100:0.2f}%\")\n",
    "print(f\"Accuracy of Test Dataset: {log.score(xc_test,yc_test)*100:0.2f}%\")"
   ]
  },
  {
   "cell_type": "code",
   "execution_count": 218,
   "metadata": {},
   "outputs": [
    {
     "name": "stdout",
     "output_type": "stream",
     "text": [
      "Predicted values:\n",
      "[26 14 12 47 11 49  6 27 17 14 43 14  6  6  6  4 26  2 17 27 50  6 43 12\n",
      "  5  4 14 34 26 40 17  5 28  6 14 11 31  8 31 39 31 31 13 43 47  2 40  2\n",
      "  7  2  4 26 47 47 17 31 11 31  6 43  6  5 17 17  5 12 12  7 50 17 13  5\n",
      "  8  6 12  9 33 33  2 50 50 43  6  9  9 28 15  1 49  5 47 42 43  9 12 11\n",
      " 28 42  8 33 47 26  1 43 49  4 50 28 43 42 12 50  6  4 42 41 26 11 31 49\n",
      " 43 26 31 26 50 50 47 42 27 42  2 47 26 33  5 42 12  8  6  9  4 34 34  6\n",
      " 27  4  1 17 28 14 17  2 27  4 26 26 39  2  6  5  4  4  5 28 15  6 43 28\n",
      "  6 28 17 26  6 42 27 14 31 43 50 31 42 26 47 28 17  6  6 28 26  5  6  5\n",
      "  6 50  6  5 43 17 27  6  6 14 11 43 43 47 43 47 31 14 12 49 42 50  6 26\n",
      " 26 31  2 11 47 33  1  5 17 15 26  2 42 28 47 11 17 26 49 47  5 49  4  9\n",
      " 17 26  6 34 43 50 11 26 14 47  4 43 42  7 24  2 14 23  6 24  2 33  9 28\n",
      " 28  6 43 50 28  6  9 31 43 47  6 50 26 28 47 12 24 43 42 42 43 47 11  6]\n",
      "\n",
      "Confusion Matrix: \n",
      " [[0 0 0 ... 0 0 0]\n",
      " [0 0 0 ... 3 2 0]\n",
      " [0 0 7 ... 0 0 0]\n",
      " ...\n",
      " [0 0 0 ... 2 1 0]\n",
      " [0 0 0 ... 0 2 0]\n",
      " [0 0 0 ... 0 0 6]]\n",
      "\n",
      "Classification Report: \n",
      "               precision    recall  f1-score   support\n",
      "\n",
      "           0       0.00      0.00      0.00        19\n",
      "           1       0.00      0.00      0.00        15\n",
      "           2       0.58      1.00      0.74         7\n",
      "           3       0.00      0.00      0.00        13\n",
      "           4       0.75      0.64      0.69        14\n",
      "           5       0.64      0.75      0.69        12\n",
      "           6       0.13      0.50      0.21         8\n",
      "           7       0.67      0.33      0.44         6\n",
      "           8       1.00      0.80      0.89         5\n",
      "           9       1.00      1.00      1.00         8\n",
      "          10       0.00      0.00      0.00         6\n",
      "          11       0.60      1.00      0.75         6\n",
      "          12       0.50      1.00      0.67         5\n",
      "          13       0.00      0.00      0.00         2\n",
      "          14       0.27      0.75      0.40         4\n",
      "          15       1.00      0.75      0.86         4\n",
      "          16       0.00      0.00      0.00         5\n",
      "          17       0.27      0.67      0.38         6\n",
      "          18       0.00      0.00      0.00         5\n",
      "          19       0.00      0.00      0.00         9\n",
      "          20       0.00      0.00      0.00         1\n",
      "          21       0.00      0.00      0.00         2\n",
      "          22       0.00      0.00      0.00         7\n",
      "          23       0.00      0.00      0.00         5\n",
      "          24       0.67      0.67      0.67         3\n",
      "          25       0.00      0.00      0.00         4\n",
      "          26       0.24      0.71      0.36         7\n",
      "          27       0.14      0.50      0.22         2\n",
      "          28       0.07      1.00      0.12         1\n",
      "          29       0.00      0.00      0.00         2\n",
      "          30       0.00      0.00      0.00         2\n",
      "          31       0.69      0.82      0.75        11\n",
      "          32       0.00      0.00      0.00         6\n",
      "          33       0.00      0.00      0.00         1\n",
      "          34       0.00      0.00      0.00         5\n",
      "          35       0.00      0.00      0.00         2\n",
      "          36       0.00      0.00      0.00         3\n",
      "          37       0.00      0.00      0.00         4\n",
      "          38       0.00      0.00      0.00         8\n",
      "          39       1.00      1.00      1.00         2\n",
      "          40       0.50      0.33      0.40         3\n",
      "          41       1.00      0.25      0.40         4\n",
      "          42       0.29      0.40      0.33        10\n",
      "          43       0.05      1.00      0.09         1\n",
      "          44       0.00      0.00      0.00        14\n",
      "          45       0.00      0.00      0.00         4\n",
      "          46       0.00      0.00      0.00         2\n",
      "          47       0.11      0.67      0.19         3\n",
      "          49       0.29      0.50      0.36         4\n",
      "          50       0.43      1.00      0.60         6\n",
      "\n",
      "    accuracy                           0.35       288\n",
      "   macro avg       0.26      0.36      0.26       288\n",
      "weighted avg       0.28      0.35      0.29       288\n",
      "\n",
      "\n",
      "Accuracy : 35.07%\n"
     ]
    }
   ],
   "source": [
    "y_predict=log.predict(xc_test)\n",
    "print(\"Predicted values:\") \n",
    "print(y_predict)\n",
    "cal_accuracy(yc_test, y_predict)"
   ]
  },
  {
   "cell_type": "code",
   "execution_count": 219,
   "metadata": {},
   "outputs": [
    {
     "name": "stdout",
     "output_type": "stream",
     "text": [
      "Accuracy of Train Dataset: 23.26%\n",
      "Accuracy of Test Dataset: 25.35%\n"
     ]
    }
   ],
   "source": [
    "from sklearn.tree import DecisionTreeClassifier\n",
    "tree = DecisionTreeClassifier(criterion = \"gini\", random_state =100,max_depth=3, min_samples_leaf=5)\n",
    "tree.fit(xc_train, yc_train)\n",
    "print(f\"Accuracy of Train Dataset: {tree.score(xc_train,yc_train)*100:0.2f}%\")\n",
    "print(f\"Accuracy of Test Dataset: {tree.score(xc_test,yc_test)*100:0.2f}%\")"
   ]
  },
  {
   "cell_type": "code",
   "execution_count": 220,
   "metadata": {},
   "outputs": [
    {
     "name": "stdout",
     "output_type": "stream",
     "text": [
      "Predicted values:\n",
      "[ 2  2  2  3  0  2 44  0  2  0  2  2  2  2 44  0  0  2  2  0  2 44 19  2\n",
      "  0  4  0  2  2  2  2  0  0 44  2  2  2  2  2  2  2  2  0  2  2  2  2  2\n",
      "  2  2  4  2  2  2  2 44  2  2  2  2 44  0  2  2  2  2  2  2  3  2  0  0\n",
      "  2 44  2  2  2  2  4  2  2 25 44  2  2  0  2 19  2  0  2  2  2  2  3  0\n",
      "  0  2  2  2 19  0 19  2  2  0  3  4  2  2  2  2  2  4  2  2  0  2  2  2\n",
      "  2  2  2  4  2  3  3  2  2  2  2  2  0  2  0  2  2  2  2  2  0  2  2  2\n",
      "  2  4 19  2  0  0  2  2  2  4  0  0  2  2 44  0  4  4  2  0  2 44  2  4\n",
      "  2  0  2  0  2  2  0  2  2  2  3  2  2  0  3  0  2  2  2  0  0  0  2  0\n",
      "  2  2  2  0  2  2  0 44  2  0  2  2  2  2  2  2  2  2  2  2  2  2 44  0\n",
      "  0  2  2  2  2  2  2  0  2  2  0  2  2  2  2  0  2  0  2  2  0  2  4  2\n",
      "  2  2 44  2  2  2  0  2  0  3  4 25  2  2  2  4  0  2  2  2  2  2  2  4\n",
      "  0  2  2 25  0  2  2  2 19  2  2  3  0  0  3  2  2 25  2  2 19  2  2 44]\n",
      "\n",
      "Confusion Matrix: \n",
      " [[19  0  0 ...  0  0  0]\n",
      " [ 0  0 15 ...  0  0  0]\n",
      " [ 0  0  7 ...  0  0  0]\n",
      " ...\n",
      " [ 0  0  3 ...  0  0  0]\n",
      " [ 0  0  4 ...  0  0  0]\n",
      " [ 0  0  6 ...  0  0  0]]\n",
      "\n",
      "Classification Report: \n",
      "               precision    recall  f1-score   support\n",
      "\n",
      "           0       0.34      1.00      0.51        19\n",
      "           1       0.00      0.00      0.00        15\n",
      "           2       0.04      1.00      0.07         7\n",
      "           3       1.00      0.85      0.92        13\n",
      "           4       0.87      0.93      0.90        14\n",
      "           5       0.00      0.00      0.00        12\n",
      "           6       0.00      0.00      0.00         8\n",
      "           7       0.00      0.00      0.00         6\n",
      "           8       0.00      0.00      0.00         5\n",
      "           9       0.00      0.00      0.00         8\n",
      "          10       0.00      0.00      0.00         6\n",
      "          11       0.00      0.00      0.00         6\n",
      "          12       0.00      0.00      0.00         5\n",
      "          13       0.00      0.00      0.00         2\n",
      "          14       0.00      0.00      0.00         4\n",
      "          15       0.00      0.00      0.00         4\n",
      "          16       0.00      0.00      0.00         5\n",
      "          17       0.00      0.00      0.00         6\n",
      "          18       0.00      0.00      0.00         5\n",
      "          19       0.86      0.67      0.75         9\n",
      "          20       0.00      0.00      0.00         1\n",
      "          21       0.00      0.00      0.00         2\n",
      "          22       0.00      0.00      0.00         7\n",
      "          23       0.00      0.00      0.00         5\n",
      "          24       0.00      0.00      0.00         3\n",
      "          25       1.00      1.00      1.00         4\n",
      "          26       0.00      0.00      0.00         7\n",
      "          27       0.00      0.00      0.00         2\n",
      "          28       0.00      0.00      0.00         1\n",
      "          29       0.00      0.00      0.00         2\n",
      "          30       0.00      0.00      0.00         2\n",
      "          31       0.00      0.00      0.00        11\n",
      "          32       0.00      0.00      0.00         6\n",
      "          33       0.00      0.00      0.00         1\n",
      "          34       0.00      0.00      0.00         5\n",
      "          35       0.00      0.00      0.00         2\n",
      "          36       0.00      0.00      0.00         3\n",
      "          37       0.00      0.00      0.00         4\n",
      "          38       0.00      0.00      0.00         8\n",
      "          39       0.00      0.00      0.00         2\n",
      "          40       0.00      0.00      0.00         3\n",
      "          41       0.00      0.00      0.00         4\n",
      "          42       0.00      0.00      0.00        10\n",
      "          43       0.00      0.00      0.00         1\n",
      "          44       0.93      0.93      0.93        14\n",
      "          45       0.00      0.00      0.00         4\n",
      "          46       0.00      0.00      0.00         2\n",
      "          47       0.00      0.00      0.00         3\n",
      "          49       0.00      0.00      0.00         4\n",
      "          50       0.00      0.00      0.00         6\n",
      "\n",
      "    accuracy                           0.25       288\n",
      "   macro avg       0.10      0.13      0.10       288\n",
      "weighted avg       0.20      0.25      0.20       288\n",
      "\n",
      "\n",
      "Accuracy : 25.35%\n"
     ]
    }
   ],
   "source": [
    "y_predict=tree.predict(xc_test)\n",
    "print(\"Predicted values:\") \n",
    "print(y_predict)\n",
    "cal_accuracy(yc_test, y_predict)"
   ]
  },
  {
   "cell_type": "code",
   "execution_count": 221,
   "metadata": {},
   "outputs": [
    {
     "name": "stdout",
     "output_type": "stream",
     "text": [
      "Accuracy of Train Dataset: 33.36%\n",
      "Accuracy of Test Dataset: 29.86%\n"
     ]
    }
   ],
   "source": [
    "from sklearn import svm\n",
    "svm_rbf = svm.SVC(kernel='rbf')\n",
    "svm_rbf.fit(xc_train,yc_train)\n",
    "print(f\"Accuracy of Train Dataset: {svm_rbf.score(xc_train,yc_train)*100:0.2f}%\")\n",
    "print(f\"Accuracy of Test Dataset: {svm_rbf.score(xc_test,yc_test)*100:0.2f}%\")"
   ]
  },
  {
   "cell_type": "code",
   "execution_count": 222,
   "metadata": {},
   "outputs": [
    {
     "name": "stdout",
     "output_type": "stream",
     "text": [
      "Predicted values:\n",
      "[26 14 12  3  3 42  3  3 31  3 43  3  3  3  3  3  0  4 31  3  1  3  3  3\n",
      "  3  4  3  3 27 12 31  3  3  3 14  2 31  2 31  2  1 31  3  1  3  2  4 26\n",
      "  3  2  4  2  1 12 49  3  2 31  6 12  3  3  1 42  3 12  3  3  3 31  3  3\n",
      "  2  3  3  3  3  3  4  1 31  3  3  3  3  0  0  3 49  3  1  6  1  3  3  3\n",
      "  3  1  2  3  3  3  3  1 49  3  3  4  1 31  3 31 12  4 31 12  3  2 31  1\n",
      "  1 26 31  4 31  3  3  1 27 31  2  1  3 42  3 31 12  2 12  3  3 12  6  6\n",
      " 26  4  3 31  0  3 17  2 26  4  0  3  2  4  3  3  4  4  2  3  3  3  1  4\n",
      " 12  3 49  3 42  6  3 14 31  1  3 31 42  3  3  3 31  1  3  3  3  3 12  3\n",
      "  6 43 12  3  1 49  3  3  3  3  4  1  1 12  1  3 31 14  3  1  1 31  3  3\n",
      "  3 43  2  2  3  3 31  3 31  3  3  2  6  4  1  3  1  3  3 12  3 49  2  3\n",
      " 31 26  3 12  1 31  3 26  3  3  2  3  6  3 24  4  3 12  3 14  4  3  3  4\n",
      "  3  3  1  3  3  3  3 31  3  3 42  3  3  3  3 12 24  3  6 42  3 12  2  3]\n",
      "\n",
      "Confusion Matrix: \n",
      " [[ 0  0  0 ...  0  0  0]\n",
      " [ 0 14  0 ...  0  0  0]\n",
      " [ 0  0  5 ...  0  0  0]\n",
      " ...\n",
      " [ 0  0  0 ...  0  0  0]\n",
      " [ 0  0  0 ...  0  3  0]\n",
      " [ 0  1  0 ...  0  0  0]]\n",
      "\n",
      "Classification Report: \n",
      "               precision    recall  f1-score   support\n",
      "\n",
      "           0       0.00      0.00      0.00        19\n",
      "           1       0.50      0.93      0.65        15\n",
      "           2       0.24      0.71      0.36         7\n",
      "           3       0.10      1.00      0.19        13\n",
      "           4       0.63      0.86      0.73        14\n",
      "           5       0.00      0.00      0.00        12\n",
      "           6       0.67      0.75      0.71         8\n",
      "           7       0.00      0.00      0.00         6\n",
      "           8       0.00      0.00      0.00         5\n",
      "           9       0.00      0.00      0.00         8\n",
      "          10       0.00      0.00      0.00         6\n",
      "          11       0.00      0.00      0.00         6\n",
      "          12       0.21      0.80      0.33         5\n",
      "          13       0.00      0.00      0.00         2\n",
      "          14       0.80      1.00      0.89         4\n",
      "          15       0.00      0.00      0.00         4\n",
      "          16       0.00      0.00      0.00         5\n",
      "          17       0.00      0.00      0.00         6\n",
      "          18       0.00      0.00      0.00         5\n",
      "          19       0.00      0.00      0.00         9\n",
      "          20       0.00      0.00      0.00         1\n",
      "          21       0.00      0.00      0.00         2\n",
      "          22       0.00      0.00      0.00         7\n",
      "          23       0.00      0.00      0.00         5\n",
      "          24       1.00      0.67      0.80         3\n",
      "          25       0.00      0.00      0.00         4\n",
      "          26       0.86      0.86      0.86         7\n",
      "          27       1.00      1.00      1.00         2\n",
      "          28       0.00      0.00      0.00         1\n",
      "          29       0.00      0.00      0.00         2\n",
      "          30       0.00      0.00      0.00         2\n",
      "          31       0.32      0.82      0.46        11\n",
      "          32       0.00      0.00      0.00         6\n",
      "          33       0.00      0.00      0.00         1\n",
      "          34       0.00      0.00      0.00         5\n",
      "          35       0.00      0.00      0.00         2\n",
      "          36       0.00      0.00      0.00         3\n",
      "          37       0.00      0.00      0.00         4\n",
      "          38       0.00      0.00      0.00         8\n",
      "          39       0.00      0.00      0.00         2\n",
      "          40       0.00      0.00      0.00         3\n",
      "          41       0.00      0.00      0.00         4\n",
      "          42       0.71      0.50      0.59        10\n",
      "          43       0.33      1.00      0.50         1\n",
      "          44       0.00      0.00      0.00        14\n",
      "          45       0.00      0.00      0.00         4\n",
      "          46       0.00      0.00      0.00         2\n",
      "          47       0.00      0.00      0.00         3\n",
      "          49       0.50      0.75      0.60         4\n",
      "          50       0.00      0.00      0.00         6\n",
      "\n",
      "    accuracy                           0.30       288\n",
      "   macro avg       0.16      0.23      0.17       288\n",
      "weighted avg       0.18      0.30      0.21       288\n",
      "\n",
      "\n",
      "Accuracy : 29.86%\n"
     ]
    }
   ],
   "source": [
    "y_predict=svm_rbf.predict(xc_test)\n",
    "print(\"Predicted values:\") \n",
    "print(y_predict)\n",
    "cal_accuracy(yc_test, y_predict)"
   ]
  },
  {
   "cell_type": "code",
   "execution_count": 223,
   "metadata": {},
   "outputs": [
    {
     "name": "stdout",
     "output_type": "stream",
     "text": [
      "Accuracy of Train Dataset: 100.00%\n",
      "Accuracy of Test Dataset: 98.26%\n"
     ]
    }
   ],
   "source": [
    "from sklearn.ensemble import RandomForestClassifier\n",
    "forest=RandomForestClassifier(n_estimators=100)\n",
    "forest.fit(xc_train,yc_train)\n",
    "print(f\"Accuracy of Train Dataset: {forest.score(xc_train,yc_train)*100:0.2f}%\")\n",
    "print(f\"Accuracy of Test Dataset: {forest.score(xc_test,yc_test)*100:0.2f}%\")"
   ]
  },
  {
   "cell_type": "code",
   "execution_count": 224,
   "metadata": {},
   "outputs": [
    {
     "name": "stdout",
     "output_type": "stream",
     "text": [
      "Predicted values:\n",
      "\n",
      "[26 14 12  3 18 42 44  0 17 18 43 18 20 37 44  0 16  4 10  5 45 44 19  7\n",
      "  5  4 13 44 27 34 17  5  0 44 14 11 31  8 31 39 38 31 32  1 19  2 40  2\n",
      "  7  2  4 26  1 47 42  3 11 31  6 23 44 46 38  6 15 12  7  7  3 17 32 13\n",
      "  8 44  7  9 37 45  4 50 50 25 44  9  9 16 15 19 49  5  1 42  1  9  3 22\n",
      "  0 31  8 45  3 18 19 29 42  0  3  4 29 33 12 50 34  4 10 41 32 11 31  1\n",
      "  1 26 10 16 50  3  3 38 27 17  2 41 22 42  5 17 12  8 34  9  0 40  6  6\n",
      " 26  4 19 10 16 22 17  8 26  4 16  0 39 30 44  5  4  4 34  0 15 44 47 28\n",
      " 34  0 42 22 42 49  0 14 31 23  3 31 42 32  3  0 10 38 36  0  0 46 38  5\n",
      "  6 21 38  5  1 49  5 44 35 22 11  1 23 47 23 19 31 24  7  1 38 50 44  0\n",
      "  0 21  2 11 47 45 23  5 10 15 32  2  6 30  1 22 38  0 47 41  5 49  4  9\n",
      " 17 26 44 40  1 50 22 26 18  3  4 25  6 35 24  4 32  1 36 14  2 37  9  4\n",
      "  0 37  1 25  0 36  9 31 19 19  6  3  0  0  3 12 24 25 42 42 19 41 11 44]\n",
      "\n",
      "Confusion Matrix: \n",
      " [[19  0  0 ...  0  0  0]\n",
      " [ 0 13  0 ...  1  0  0]\n",
      " [ 0  0  7 ...  0  0  0]\n",
      " ...\n",
      " [ 0  0  0 ...  3  0  0]\n",
      " [ 0  0  0 ...  0  4  0]\n",
      " [ 0  0  0 ...  0  0  6]]\n",
      "\n",
      "Classification Report: \n",
      "               precision    recall  f1-score   support\n",
      "\n",
      "           0       0.95      1.00      0.97        19\n",
      "           1       1.00      0.87      0.93        15\n",
      "           2       1.00      1.00      1.00         7\n",
      "           3       1.00      1.00      1.00        13\n",
      "           4       1.00      1.00      1.00        14\n",
      "           5       1.00      0.92      0.96        12\n",
      "           6       1.00      1.00      1.00         8\n",
      "           7       1.00      1.00      1.00         6\n",
      "           8       1.00      1.00      1.00         5\n",
      "           9       1.00      1.00      1.00         8\n",
      "          10       1.00      1.00      1.00         6\n",
      "          11       1.00      1.00      1.00         6\n",
      "          12       1.00      1.00      1.00         5\n",
      "          13       1.00      1.00      1.00         2\n",
      "          14       1.00      1.00      1.00         4\n",
      "          15       1.00      1.00      1.00         4\n",
      "          16       1.00      1.00      1.00         5\n",
      "          17       0.86      1.00      0.92         6\n",
      "          18       1.00      1.00      1.00         5\n",
      "          19       1.00      1.00      1.00         9\n",
      "          20       1.00      1.00      1.00         1\n",
      "          21       1.00      1.00      1.00         2\n",
      "          22       1.00      1.00      1.00         7\n",
      "          23       1.00      1.00      1.00         5\n",
      "          24       1.00      1.00      1.00         3\n",
      "          25       1.00      1.00      1.00         4\n",
      "          26       1.00      1.00      1.00         7\n",
      "          27       1.00      1.00      1.00         2\n",
      "          28       1.00      1.00      1.00         1\n",
      "          29       0.50      0.50      0.50         2\n",
      "          30       1.00      1.00      1.00         2\n",
      "          31       1.00      0.91      0.95        11\n",
      "          32       1.00      1.00      1.00         6\n",
      "          33       1.00      1.00      1.00         1\n",
      "          34       1.00      1.00      1.00         5\n",
      "          35       1.00      1.00      1.00         2\n",
      "          36       1.00      1.00      1.00         3\n",
      "          37       1.00      1.00      1.00         4\n",
      "          38       1.00      1.00      1.00         8\n",
      "          39       1.00      1.00      1.00         2\n",
      "          40       1.00      1.00      1.00         3\n",
      "          41       1.00      1.00      1.00         4\n",
      "          42       1.00      1.00      1.00        10\n",
      "          43       1.00      1.00      1.00         1\n",
      "          44       1.00      1.00      1.00        14\n",
      "          45       1.00      1.00      1.00         4\n",
      "          46       1.00      1.00      1.00         2\n",
      "          47       0.60      1.00      0.75         3\n",
      "          49       1.00      1.00      1.00         4\n",
      "          50       1.00      1.00      1.00         6\n",
      "\n",
      "    accuracy                           0.98       288\n",
      "   macro avg       0.98      0.98      0.98       288\n",
      "weighted avg       0.99      0.98      0.98       288\n",
      "\n",
      "\n",
      "Accuracy : 98.26%\n"
     ]
    }
   ],
   "source": [
    "y_predict=forest.predict(xc_test)\n",
    "print(\"Predicted values:\\n\")\n",
    "print(y_predict)\n",
    "cal_accuracy(yc_test, y_predict)"
   ]
  },
  {
   "cell_type": "code",
   "execution_count": 225,
   "metadata": {},
   "outputs": [
    {
     "name": "stdout",
     "output_type": "stream",
     "text": [
      "Accuracy of Train Dataset: 100.00%\n",
      "Accuracy of Test Dataset: 92.71%\n"
     ]
    }
   ],
   "source": [
    "from sklearn.ensemble import GradientBoostingClassifier\n",
    "gbc=GradientBoostingClassifier(n_estimators=100)\n",
    "gbc.fit(xc_train,yc_train)\n",
    "print(f\"Accuracy of Train Dataset: {gbc.score(xc_train,yc_train)*100:0.2f}%\")\n",
    "print(f\"Accuracy of Test Dataset: {gbc.score(xc_test,yc_test)*100:0.2f}%\")"
   ]
  },
  {
   "cell_type": "code",
   "execution_count": 226,
   "metadata": {},
   "outputs": [
    {
     "name": "stdout",
     "output_type": "stream",
     "text": [
      "Predicted values:\n",
      "\n",
      "[26 14 12  3 18 42 44  0 17 18 43  9 20 37 44  0 13  4 10  5 45 44 19  7\n",
      "  5  4 13 50 27 34 17  5  0 44 14 11 31  8 31 39 38 31 32  1 19  2 40  2\n",
      "  7  2  4 26  1 23 42 44 11 31  6 23 44 46 38 27 15 12  7  7  3 17 32 13\n",
      "  8 44  7  9 15 45  4 50 50 25 44  9  9 16 15 19 49  5  1 42  1  9  3 22\n",
      "  0 31  8 45  3 18 19 29 42  0  3  4  1 33 12 50 34  4 10 41  0 11 31  1\n",
      "  1 26 10 29 50  3  3 38 27 17  2 41 22 42  5 17 12  8 34  9  0 40  6  6\n",
      " 30  4 19 10 16 22 31  8 26  4 16  0 39 30 44  5  4  4 34  0 15 44  1 28\n",
      " 34  0 42 22 42 38  5 14 31 23  3 31 42 32  3  0 10 38 36  0  0  0 38  5\n",
      " 10 31 38  5  1 27  5 44 35 22 11  1 23 47  1 19 31 24  7 47 38 50 44  0\n",
      "  0 50  2 11 47 45 23  5 10 15 32  2  6  2  1 22 38  0 47 41  5 49  4  9\n",
      " 17 26 44 40  1 50 22 26 18  3  4 25  6 35 24  4 19  1 36 14  2 37  9  4\n",
      "  0 37  1 25  0 36  9 31 19 19  6  3  0  0  3 12 24 25 42 42 19 41 11 44]\n",
      "\n",
      "Confusion Matrix: \n",
      " [[19  0  0 ...  0  0  0]\n",
      " [ 0 14  0 ...  1  0  0]\n",
      " [ 0  0  7 ...  0  0  0]\n",
      " ...\n",
      " [ 0  0  0 ...  2  0  0]\n",
      " [ 0  0  0 ...  0  2  0]\n",
      " [ 0  0  0 ...  0  0  6]]\n",
      "\n",
      "Classification Report: \n",
      "               precision    recall  f1-score   support\n",
      "\n",
      "           0       0.90      1.00      0.95        19\n",
      "           1       0.93      0.93      0.93        15\n",
      "           2       0.88      1.00      0.93         7\n",
      "           3       1.00      0.92      0.96        13\n",
      "           4       1.00      1.00      1.00        14\n",
      "           5       1.00      1.00      1.00        12\n",
      "           6       1.00      0.75      0.86         8\n",
      "           7       1.00      1.00      1.00         6\n",
      "           8       1.00      1.00      1.00         5\n",
      "           9       0.89      1.00      0.94         8\n",
      "          10       0.86      1.00      0.92         6\n",
      "          11       1.00      1.00      1.00         6\n",
      "          12       1.00      1.00      1.00         5\n",
      "          13       0.67      1.00      0.80         2\n",
      "          14       1.00      1.00      1.00         4\n",
      "          15       0.80      1.00      0.89         4\n",
      "          16       1.00      0.60      0.75         5\n",
      "          17       1.00      1.00      1.00         6\n",
      "          18       1.00      0.80      0.89         5\n",
      "          19       0.90      1.00      0.95         9\n",
      "          20       1.00      1.00      1.00         1\n",
      "          21       0.00      0.00      0.00         2\n",
      "          22       1.00      1.00      1.00         7\n",
      "          23       0.80      0.80      0.80         5\n",
      "          24       1.00      1.00      1.00         3\n",
      "          25       1.00      1.00      1.00         4\n",
      "          26       1.00      0.86      0.92         7\n",
      "          27       0.50      1.00      0.67         2\n",
      "          28       1.00      1.00      1.00         1\n",
      "          29       0.50      0.50      0.50         2\n",
      "          30       0.50      0.50      0.50         2\n",
      "          31       0.92      1.00      0.96        11\n",
      "          32       1.00      0.67      0.80         6\n",
      "          33       1.00      1.00      1.00         1\n",
      "          34       1.00      1.00      1.00         5\n",
      "          35       1.00      1.00      1.00         2\n",
      "          36       1.00      1.00      1.00         3\n",
      "          37       1.00      0.75      0.86         4\n",
      "          38       0.89      1.00      0.94         8\n",
      "          39       1.00      1.00      1.00         2\n",
      "          40       1.00      1.00      1.00         3\n",
      "          41       1.00      1.00      1.00         4\n",
      "          42       1.00      1.00      1.00        10\n",
      "          43       1.00      1.00      1.00         1\n",
      "          44       0.93      0.93      0.93        14\n",
      "          45       1.00      1.00      1.00         4\n",
      "          46       1.00      0.50      0.67         2\n",
      "          47       0.50      0.67      0.57         3\n",
      "          49       1.00      0.50      0.67         4\n",
      "          50       0.75      1.00      0.86         6\n",
      "\n",
      "    accuracy                           0.93       288\n",
      "   macro avg       0.90      0.89      0.89       288\n",
      "weighted avg       0.93      0.93      0.92       288\n",
      "\n",
      "\n",
      "Accuracy : 92.71%\n"
     ]
    }
   ],
   "source": [
    "y_predict=gbc.predict(xc_test)\n",
    "print(\"Predicted values:\\n\")\n",
    "print(y_predict)\n",
    "cal_accuracy(yc_test, y_predict)"
   ]
  },
  {
   "cell_type": "code",
   "execution_count": 227,
   "metadata": {},
   "outputs": [
    {
     "name": "stdout",
     "output_type": "stream",
     "text": [
      "Accuracy of Train Dataset: 88.15%\n",
      "Accuracy of Test Dataset: 80.90%\n"
     ]
    }
   ],
   "source": [
    "from sklearn.neighbors import KNeighborsClassifier\n",
    "knn=KNeighborsClassifier()\n",
    "knn.fit(xc_train,yc_train)\n",
    "print(f\"Accuracy of Train Dataset: {knn.score(xc_train,yc_train)*100:0.2f}%\")\n",
    "print(f\"Accuracy of Test Dataset: {knn.score(xc_test,yc_test)*100:0.2f}%\")"
   ]
  },
  {
   "cell_type": "code",
   "execution_count": 228,
   "metadata": {},
   "outputs": [
    {
     "name": "stdout",
     "output_type": "stream",
     "text": [
      "Predicted values:\n",
      "\n",
      "[26 14 12  3 18 42 44  5 17 18 43 18 20 37 44  0 16  2 17  0 41 44 19  7\n",
      "  5  4 13  5 27 34 17  5  0 44 14 11 31  8 31 39 38 31 32  1 19  2 34 26\n",
      "  7  2  4 26  1 23 49  3 39 31 49 23 44 46 38 42 15 12  7  7  3 33 32 13\n",
      "  8 44  7  9 37 45  4 50 50 29 44  9  9 16 15 19 49  5  1  6  1  9  3 22\n",
      "  0 31  8 45  3 18 19 47 42  0  3 28  1 33 12 50 34  4 10 41 22 11 31  1\n",
      "  1 26 31 28 50  3  3 38 27 17  2 41 22 42  5 10 12  8 34  9  0 34  6  6\n",
      " 26  4 19 17 16 22 17  8 26 28 16  0 39 30 44  5 28  4  2  0 15 44 23  4\n",
      " 34  0 42 22 42 49  0 14 31  1  3 31 42 22  3  0 33 38 36  0  0 46 38  5\n",
      "  6 43 34  5 23 49  0 44 35 32 11 23  1 47  1 19 31 14  7 47 38 50 44  0\n",
      "  0 43  2 11 47 45 50  5 17 15 22  2 42  4  1 22 38  0 47 41  5 49  4  9\n",
      " 17 26 44 34  1 31 22 26 18  3  4 25  6 35 24  4 32  1 36 14  4 37  9  4\n",
      "  0 37  1 25  0 36  9 31 19 19  6  3  0  0  3 12 24 19 42 42 19 41 11 44]\n",
      "\n",
      "Confusion Matrix: \n",
      " [[18  0  0 ...  0  0  0]\n",
      " [ 0 11  0 ...  1  0  0]\n",
      " [ 0  0  5 ...  0  0  0]\n",
      " ...\n",
      " [ 0  0  0 ...  2  0  0]\n",
      " [ 0  0  0 ...  0  4  0]\n",
      " [ 0  0  0 ...  0  0  5]]\n",
      "\n",
      "Classification Report: \n",
      "               precision    recall  f1-score   support\n",
      "\n",
      "           0       0.86      0.95      0.90        19\n",
      "           1       0.79      0.73      0.76        15\n",
      "           2       0.71      0.71      0.71         7\n",
      "           3       1.00      1.00      1.00        13\n",
      "           4       0.77      0.71      0.74        14\n",
      "           5       0.82      0.75      0.78        12\n",
      "           6       0.83      0.62      0.71         8\n",
      "           7       1.00      1.00      1.00         6\n",
      "           8       1.00      1.00      1.00         5\n",
      "           9       1.00      1.00      1.00         8\n",
      "          10       0.50      0.17      0.25         6\n",
      "          11       1.00      0.83      0.91         6\n",
      "          12       1.00      1.00      1.00         5\n",
      "          13       1.00      1.00      1.00         2\n",
      "          14       0.80      1.00      0.89         4\n",
      "          15       1.00      1.00      1.00         4\n",
      "          16       1.00      0.80      0.89         5\n",
      "          17       0.50      0.67      0.57         6\n",
      "          18       1.00      1.00      1.00         5\n",
      "          19       0.90      1.00      0.95         9\n",
      "          20       1.00      1.00      1.00         1\n",
      "          21       0.00      0.00      0.00         2\n",
      "          22       0.67      0.86      0.75         7\n",
      "          23       0.20      0.20      0.20         5\n",
      "          24       1.00      0.67      0.80         3\n",
      "          25       1.00      0.50      0.67         4\n",
      "          26       0.88      1.00      0.93         7\n",
      "          27       1.00      1.00      1.00         2\n",
      "          28       0.00      0.00      0.00         1\n",
      "          29       0.00      0.00      0.00         2\n",
      "          30       1.00      0.50      0.67         2\n",
      "          31       0.83      0.91      0.87        11\n",
      "          32       0.75      0.50      0.60         6\n",
      "          33       0.33      1.00      0.50         1\n",
      "          34       0.50      0.80      0.62         5\n",
      "          35       1.00      1.00      1.00         2\n",
      "          36       1.00      1.00      1.00         3\n",
      "          37       1.00      1.00      1.00         4\n",
      "          38       1.00      0.88      0.93         8\n",
      "          39       0.67      1.00      0.80         2\n",
      "          40       0.00      0.00      0.00         3\n",
      "          41       0.80      1.00      0.89         4\n",
      "          42       0.80      0.80      0.80        10\n",
      "          43       0.33      1.00      0.50         1\n",
      "          44       1.00      0.93      0.96        14\n",
      "          45       1.00      0.75      0.86         4\n",
      "          46       1.00      1.00      1.00         2\n",
      "          47       0.40      0.67      0.50         3\n",
      "          49       0.67      1.00      0.80         4\n",
      "          50       0.83      0.83      0.83         6\n",
      "\n",
      "    accuracy                           0.81       288\n",
      "   macro avg       0.76      0.77      0.75       288\n",
      "weighted avg       0.82      0.81      0.80       288\n",
      "\n",
      "\n",
      "Accuracy : 80.90%\n"
     ]
    }
   ],
   "source": [
    "y_predict=knn.predict(xc_test)\n",
    "print(\"Predicted values:\\n\")\n",
    "print(y_predict)\n",
    "cal_accuracy(yc_test, y_predict)"
   ]
  },
  {
   "cell_type": "code",
   "execution_count": 229,
   "metadata": {},
   "outputs": [
    {
     "name": "stdout",
     "output_type": "stream",
     "text": [
      "Cross validated Accuracy of Logistic Regression: 39.02%\n",
      "Cross validated Accuracy of Support Vector Machine (rbf): 30.75%\n",
      "Cross validated Accuracy of Decision Tree: 22.47%\n",
      "Cross validated Accuracy of Random Forest: 95.99%\n",
      "Cross validated Accuracy of GradientBoostingClassifier: 88.68%\n",
      "Cross validated Accuracy of KNeighborsClassifier: 80.92%\n"
     ]
    }
   ],
   "source": [
    "#Let's check the cross validate for our models\n",
    "\n",
    "from sklearn import model_selection\n",
    "kfold=model_selection.KFold(n_splits=10, random_state=42)\n",
    "models=[('Logistic Regression', log), ('Support Vector Machine (rbf)', svm_rbf),('Decision Tree',tree),\n",
    "        ('Random Forest',forest),('GradientBoostingClassifier', gbc),('KNeighborsClassifier', knn)]\n",
    "\n",
    "for model in models:\n",
    "    results=model_selection.cross_val_score(model[1],xc_train,yc_train,cv=kfold,scoring='accuracy')\n",
    "    print(f\"Cross validated Accuracy of {model[0]}: {results.mean()*100:.2f}%\")"
   ]
  },
  {
   "cell_type": "code",
   "execution_count": 231,
   "metadata": {},
   "outputs": [],
   "source": [
    "from sklearn.metrics import roc_curve, roc_auc_score\n",
    "classification_models = {\n",
    "    'KNeighboursClassfier': knn,\n",
    "    'DecisionTreeClassifier': tree,\n",
    "    'Support Vector Machine (rbf)': svm_rbf,\n",
    "    'Random Forest':forest,\n",
    "    'GradientBoostingClassifier':gbc    \n",
    "    \n",
    "}\n",
    "\n",
    "regression_models = {\n",
    "    'LogisticRegression': log\n",
    "}"
   ]
  },
  {
   "cell_type": "code",
   "execution_count": 232,
   "metadata": {},
   "outputs": [
    {
     "name": "stdout",
     "output_type": "stream",
     "text": [
      "KNeighboursClassfier: 59.72222222222222\n",
      "DecisionTreeClassifier: 25.34722222222222\n",
      "Support Vector Machine (rbf): 47.56944444444444\n",
      "Random Forest: 97.22222222222221\n",
      "GradientBoostingClassifier: 92.01388888888889\n"
     ]
    }
   ],
   "source": [
    "from sklearn.preprocessing import StandardScaler\n",
    "from sklearn.pipeline import Pipeline\n",
    "from sklearn.metrics import accuracy_score\n",
    "\n",
    "\n",
    "for name, model in classification_models.items():\n",
    "    \n",
    "    steps = [\n",
    "        ('scaler', StandardScaler()),\n",
    "        (name, model)\n",
    "    ]\n",
    "    \n",
    "    pipeline = Pipeline(steps)\n",
    "    pipeline.fit(xc_train, yc_train)\n",
    "    y_pred = pipeline.predict(xc_test)\n",
    "    \n",
    "    print('{}: {}'.format(name, accuracy_score(yc_test, y_pred)*100))"
   ]
  },
  {
   "cell_type": "code",
   "execution_count": 233,
   "metadata": {},
   "outputs": [
    {
     "name": "stdout",
     "output_type": "stream",
     "text": [
      "LogisticRegression\t0.59375\n"
     ]
    }
   ],
   "source": [
    "for name, model in regression_models.items():\n",
    "    \n",
    "    steps = [\n",
    "        ('scaler', StandardScaler()),\n",
    "        (name, model)\n",
    "    ]\n",
    "    \n",
    "    pipeline = Pipeline(steps)\n",
    "    pipeline.fit(xc_train, yc_train)\n",
    "    y_pred = pipeline.predict(xc_test)\n",
    "    \n",
    "    print('{}\\t{}'.format(name, accuracy_score(yc_test, y_pred)))"
   ]
  },
  {
   "cell_type": "markdown",
   "metadata": {},
   "source": [
    "# We can say that Random Forest is the best model with around 97% Accuracy"
   ]
  },
  {
   "cell_type": "code",
   "execution_count": 234,
   "metadata": {},
   "outputs": [
    {
     "data": {
      "text/plain": [
       "['avacado.pkl']"
      ]
     },
     "execution_count": 234,
     "metadata": {},
     "output_type": "execute_result"
    }
   ],
   "source": [
    "#Let's save the best model\n",
    "import joblib\n",
    "\n",
    "#save the model as a pickle in a file\n",
    "joblib.dump(model,'avacado.pkl')"
   ]
  },
  {
   "cell_type": "code",
   "execution_count": null,
   "metadata": {},
   "outputs": [],
   "source": []
  }
 ],
 "metadata": {
  "kernelspec": {
   "display_name": "Python 3",
   "language": "python",
   "name": "python3"
  },
  "language_info": {
   "codemirror_mode": {
    "name": "ipython",
    "version": 3
   },
   "file_extension": ".py",
   "mimetype": "text/x-python",
   "name": "python",
   "nbconvert_exporter": "python",
   "pygments_lexer": "ipython3",
   "version": "3.8.3"
  }
 },
 "nbformat": 4,
 "nbformat_minor": 4
}
